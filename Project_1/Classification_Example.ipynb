{
 "cells": [
  {
   "cell_type": "markdown",
   "metadata": {},
   "source": [
    "# Digit Classification\n",
    "\n",
    "This notebook is a very simple exercise of training an ML model from start to finish to classify handwritten digits. It will explore the basics of installing and importing all of the required dependencies and downloading a dataset.\n",
    "\n",
    "Some basic tools will be provided for you to visualise the data, then it is up to you to research, build, and train a model in whatever architecture you'd like with whatever framework you choose. "
   ]
  },
  {
   "cell_type": "markdown",
   "metadata": {},
   "source": [
    "### Install Dependencies\n",
    "Make sure that you have python3 installed on your machine.\n",
    "\n",
    "If using pip3, install tensorflow using the following cell:"
   ]
  },
  {
   "cell_type": "code",
   "execution_count": 3,
   "metadata": {},
   "outputs": [],
   "source": [
    "pip install tensorflow"
   ]
  },
  {
   "cell_type": "markdown",
   "metadata": {},
   "source": [
    "If using anaconda, run:"
   ]
  },
  {
   "cell_type": "code",
   "execution_count": 5,
   "metadata": {},
   "outputs": [
    {
     "name": "stdout",
     "output_type": "stream",
     "text": [
      "Collecting package metadata (current_repodata.json): done\n",
      "Solving environment: \\ ^C\n",
      "failed with initial frozen solve. Retrying with flexible solve.\n",
      "\n",
      "CondaError: KeyboardInterrupt\n",
      "\n",
      "\n",
      "Note: you may need to restart the kernel to use updated packages.\n"
     ]
    }
   ],
   "source": [
    "conda install tensorflow"
   ]
  },
  {
   "cell_type": "code",
   "execution_count": 98,
   "metadata": {},
   "outputs": [
    {
     "name": "stderr",
     "output_type": "stream",
     "text": [
      "Using TensorFlow backend.\n"
     ]
    }
   ],
   "source": [
    "import tensorflow as tf                      #1\n",
    "import numpy as np                           #2 \n",
    "import matplotlib.pyplot as plt              #3\n",
    "from random import *                         #4"
   ]
  },
  {
   "cell_type": "markdown",
   "metadata": {},
   "source": [
    "We are going to use the MNIST dataset of handwritten digits {0-9} in black and white.  This is available on Kaggle (here: https://www.kaggle.com/c/digit-recognizer/code).\n",
    "\n",
    "But helpfully Tensorflow (import 1) hosts an easy way to import the dataset with very little fuss (Info here: https://www.tensorflow.org/datasets/catalog/mnist). This lets us explore a very simple example of how to set up our data into a set of inputs (X) and outputs (Y) that we can form a model out of:"
   ]
  },
  {
   "cell_type": "markdown",
   "metadata": {},
   "source": [
    "### Download Data"
   ]
  },
  {
   "cell_type": "code",
   "execution_count": 4,
   "metadata": {},
   "outputs": [],
   "source": [
    "mnist = tf.keras.datasets.mnist\n",
    "(train_images, train_labels),(test_images, test_labels) = mnist.load_data()"
   ]
  },
  {
   "cell_type": "markdown",
   "metadata": {},
   "source": [
    "Now we have downloaded a training and test set made up of images (X) and labels (Y).\n",
    "The shapes of our input and output can be checked by printing out just the first image/label sizes using the numpy (np, see import 2) library."
   ]
  },
  {
   "cell_type": "markdown",
   "metadata": {},
   "source": [
    "### Visualise Data"
   ]
  },
  {
   "cell_type": "code",
   "execution_count": 5,
   "metadata": {},
   "outputs": [
    {
     "name": "stdout",
     "output_type": "stream",
     "text": [
      "Our first image is: (28, 28)\n",
      "Our first label is: 5\n"
     ]
    }
   ],
   "source": [
    "print('Our first image is: ' + str(np.shape(train_images[0])))\n",
    "print('Our first label is: ' + str(train_labels[0]))"
   ]
  },
  {
   "cell_type": "markdown",
   "metadata": {},
   "source": [
    "Our image, as expected is a set of 28x28 pixels with a range of 0 - 255 and our label is the digit that the picture shows.  To make this easy to confirm as correctly labled, let's also show the image."
   ]
  },
  {
   "cell_type": "code",
   "execution_count": 6,
   "metadata": {},
   "outputs": [
    {
     "data": {
      "text/plain": [
       "<matplotlib.image.AxesImage at 0x7f4dff960510>"
      ]
     },
     "execution_count": 6,
     "metadata": {},
     "output_type": "execute_result"
    },
    {
     "data": {
      "image/png": "[encoded data removed]",
      "text/plain": [
       "<Figure size 432x288 with 1 Axes>"
      ]
     },
     "metadata": {
      "needs_background": "light"
     },
     "output_type": "display_data"
    }
   ],
   "source": [
    "plt.imshow(train_images[0])"
   ]
  },
  {
   "cell_type": "markdown",
   "metadata": {},
   "source": [
    "We can use a random number generator to sample the training dataset"
   ]
  },
  {
   "cell_type": "code",
   "execution_count": 7,
   "metadata": {},
   "outputs": [
    {
     "name": "stdout",
     "output_type": "stream",
     "text": [
      "Image 57243 is labled as: 1\n"
     ]
    },
    {
     "data": {
      "image/png": "[encoded data removed]",
      "text/plain": [
       "<Figure size 432x288 with 1 Axes>"
      ]
     },
     "metadata": {
      "needs_background": "light"
     },
     "output_type": "display_data"
    }
   ],
   "source": [
    "selected = randint(0, len(train_images)-1)\n",
    "plt.imshow(train_images[selected])\n",
    "print('Image ' + str(selected) + ' is labled as: ' + str(train_labels[selected]))"
   ]
  },
  {
   "cell_type": "markdown",
   "metadata": {},
   "source": [
    "### Normalise the data\n",
    "We are currently using a range of 0 - 255, this causes issues when working with neural networks as deep networks can cause values to explode exponentially.  So we will normalise all of our values to be between 0 to 1.  This is not the only range possible, but is frequently used. We could write a function that does this for all values, making sure to take the highest value equal to 1 and lowest to 0.  \n",
    "\n",
    "However numpy has again got a very useful interpolation function that can provide us with the answer in one line."
   ]
  },
  {
   "cell_type": "code",
   "execution_count": 8,
   "metadata": {},
   "outputs": [
    {
     "name": "stdout",
     "output_type": "stream",
     "text": [
      "Image 59560 max: 1.0 min: 0.0\n",
      "Image 5780 max: 1.0 min: 0.0\n",
      "Image 57859 max: 1.0 min: 0.0\n",
      "Image 14020 max: 1.0 min: 0.0\n",
      "Image 14561 max: 1.0 min: 0.0\n",
      "Image 27562 max: 1.0 min: 0.0\n",
      "Image 41095 max: 1.0 min: 0.0\n",
      "Image 18031 max: 1.0 min: 0.0\n",
      "Image 29824 max: 1.0 min: 0.0\n",
      "Image 15025 max: 1.0 min: 0.0\n"
     ]
    }
   ],
   "source": [
    "train_images = np.interp(train_images, (train_images.min(), train_images.max()), (0, 1))\n",
    "test_images = np.interp(test_images, (test_images.min(), test_images.max()), (0, 1))\n",
    "\n",
    "# Taking a random sample to see if it has worked\n",
    "for i in range(0,10):\n",
    "    random_sample = randint(0, len(train_images)-1)\n",
    "    max_value = np.max(train_images[random_sample])\n",
    "    min_value = np.min(train_images[random_sample])\n",
    "    print('Image ' + str(random_sample) + ' max: ' + str(max_value) + ' min: ' + str(min_value))"
   ]
  },
  {
   "cell_type": "markdown",
   "metadata": {},
   "source": [
    "We can also check that the data hasn't changed the image by re-running our visualisation code again"
   ]
  },
  {
   "cell_type": "code",
   "execution_count": 27,
   "metadata": {},
   "outputs": [
    {
     "name": "stdout",
     "output_type": "stream",
     "text": [
      "Image 48415 is labled as: 3\n"
     ]
    },
    {
     "data": {
      "image/png": "[encoded data removed]",
      "text/plain": [
       "<Figure size 432x288 with 1 Axes>"
      ]
     },
     "metadata": {
      "needs_background": "light"
     },
     "output_type": "display_data"
    }
   ],
   "source": [
    "selected = randint(0, len(train_images)-1)\n",
    "plt.imshow(train_images[selected])\n",
    "print('Image ' + str(selected) + ' is labled as: ' + str(train_labels[selected]))"
   ]
  },
  {
   "cell_type": "markdown",
   "metadata": {},
   "source": [
    "### Reshape Data\n",
    "This is a good start, but currently our data is in a 3 dimentional array of images with each one looking like this:"
   ]
  },
  {
   "cell_type": "markdown",
   "metadata": {},
   "source": [
    "$$\n",
    "\\begin{bmatrix}\n",
    "0 & 1 & ... & n-1 & n \\\\\n",
    "1 & px & px & px & px \\\\\n",
    "\\vdots & px & px & px & px \\\\\n",
    "n-1 & px & px & px & px \\\\\n",
    "n & px & px & px & px\n",
    "\\end{bmatrix}\n",
    "\\cdot m\n",
    "$$"
   ]
  },
  {
   "cell_type": "markdown",
   "metadata": {},
   "source": [
    "Where our image is $n\\times n$ in size and there are $m$ images in the data set.  This needs to be converted to something that we can input into the first layer of our neural network, and we can to this by adding all of our columns of pixels end to end to form a single vector:"
   ]
  },
  {
   "cell_type": "markdown",
   "metadata": {},
   "source": [
    "$$\n",
    "\\begin{bmatrix}\n",
    "0 \\\\\n",
    "1 \\\\\n",
    "\\vdots \\\\\n",
    "n^{2}-1 \\\\\n",
    "n^{2}\n",
    "\\end{bmatrix}\n",
    "\\cdot m\n",
    "$$"
   ]
  },
  {
   "cell_type": "markdown",
   "metadata": {},
   "source": [
    "We can then stack all of our $m$ images together to form a two dimensional $n\\times m$ matrix: "
   ]
  },
  {
   "cell_type": "markdown",
   "metadata": {},
   "source": [
    "$$\n",
    "\\begin{bmatrix}\n",
    "0 & 1 & \\cdots & m-1 & m \\\\\n",
    "1 & \\ddots &  &  &  \\\\\n",
    "\\vdots & & \\ddots &  & \\vdots \\\\\n",
    "n-1 &  &  & \\ddots &  \\\\\n",
    "n &  & \\cdots &  & n \\times m\n",
    "\\end{bmatrix}\n",
    "$$"
   ]
  },
  {
   "cell_type": "code",
   "execution_count": 10,
   "metadata": {},
   "outputs": [
    {
     "name": "stdout",
     "output_type": "stream",
     "text": [
      "Train data is: (60000, 28, 28)\n",
      "Test data is: (10000, 28, 28)\n",
      "Reshaped train data is: (60000, 784)\n",
      "Reshaped test data is: (10000, 784)\n"
     ]
    }
   ],
   "source": [
    "# First print out the original shapes\n",
    "print('Train data is: ' + str(np.shape(train_images)))\n",
    "print('Test data is: ' + str(np.shape(test_images)))\n",
    "\n",
    "# Using numpy, reshape the array into the desired shape\n",
    "X_train = train_images.reshape(len(train_images), 28*28)\n",
    "X_test = test_images.reshape(len(test_images), 28*28)\n",
    "\n",
    "# Print out the final shape\n",
    "print('Reshaped train data is: ' + str(np.shape(X_train)))\n",
    "print('Reshaped test data is: ' + str(np.shape(X_test)))"
   ]
  },
  {
   "cell_type": "markdown",
   "metadata": {},
   "source": [
    "Now for our labels, we already have an  $m \\times 1$  vector so we can simply rename them to `Y_test` and `Y_train` and  confirm that they are the right shapes of (m,) where the lack of a second number means that it is a one dimensional array (or vector). "
   ]
  },
  {
   "cell_type": "code",
   "execution_count": 104,
   "metadata": {},
   "outputs": [
    {
     "name": "stdout",
     "output_type": "stream",
     "text": [
      "Train Y is: (60000,)\n",
      "Test Y is: (10000,)\n"
     ]
    }
   ],
   "source": [
    "# Rename our data\n",
    "Y_train = train_labels;\n",
    "Y_test = test_labels;\n",
    "\n",
    "# Print to confirm\n",
    "print('Train Y is: ' + str(np.shape(Y_train)))\n",
    "print('Test Y is: ' + str(np.shape(Y_test)))"
   ]
  },
  {
   "cell_type": "markdown",
   "metadata": {},
   "source": [
    "#### Now you are ready to build your model!"
   ]
  },
  {
   "cell_type": "code",
   "execution_count": 105,
   "metadata": {},
   "outputs": [
    {
     "name": "stdout",
     "output_type": "stream",
     "text": [
      "Input Shape: (784,)\n",
      "Output Shape: 10\n"
     ]
    }
   ],
   "source": [
    "input_shape = (np.shape(X_train)[1],)\n",
    "output_shape = 10\n",
    "\n",
    "print('Input Shape: ' + str(input_shape))\n",
    "print('Output Shape: ' + str(output_shape))"
   ]
  },
  {
   "cell_type": "code",
   "execution_count": 118,
   "metadata": {},
   "outputs": [],
   "source": [
    "model = tf.keras.Sequential()\n",
    "model.add(tf.keras.Input(shape=input_shape))\n",
    "model.add(tf.keras.layers.Dense(128))\n",
    "model.add(tf.keras.layers.Dense(128))\n",
    "model.add(tf.keras.layers.Dense(output_shape))\n",
    "\n",
    "model.compile(optimizer=tf.keras.optimizers.RMSprop(lr=0.002, rho=0.9, epsilon=None, decay=0.0),\n",
    "              loss=tf.keras.losses.SparseCategoricalCrossentropy(from_logits=True),\n",
    "              metrics=[tf.keras.metrics.SparseCategoricalAccuracy()],)\n"
   ]
  },
  {
   "cell_type": "code",
   "execution_count": 119,
   "metadata": {},
   "outputs": [
    {
     "name": "stdout",
     "output_type": "stream",
     "text": [
      "Train on training data\n",
      "Epoch 1/100\n",
      "1875/1875 [==============================] - 2s 901us/step - loss: 0.4221 - sparse_categorical_accuracy: 0.8777\n",
      "Epoch 2/100\n",
      "1875/1875 [==============================] - 3s 2ms/step - loss: 0.3480 - sparse_categorical_accuracy: 0.9020\n",
      "Epoch 3/100\n",
      "1875/1875 [==============================] - 3s 2ms/step - loss: 0.3296 - sparse_categorical_accuracy: 0.9079\n",
      "Epoch 4/100\n",
      "1875/1875 [==============================] - 3s 2ms/step - loss: 0.3185 - sparse_categorical_accuracy: 0.9101\n",
      "Epoch 5/100\n",
      "1875/1875 [==============================] - 3s 2ms/step - loss: 0.3105 - sparse_categorical_accuracy: 0.9143\n",
      "Epoch 6/100\n",
      "1875/1875 [==============================] - 3s 2ms/step - loss: 0.3079 - sparse_categorical_accuracy: 0.9150\n",
      "Epoch 7/100\n",
      "1875/1875 [==============================] - 3s 1ms/step - loss: 0.3028 - sparse_categorical_accuracy: 0.9167\n",
      "Epoch 8/100\n",
      "1875/1875 [==============================] - 3s 2ms/step - loss: 0.3023 - sparse_categorical_accuracy: 0.9145\n",
      "Epoch 9/100\n",
      "1875/1875 [==============================] - 3s 2ms/step - loss: 0.2998 - sparse_categorical_accuracy: 0.9170\n",
      "Epoch 10/100\n",
      "1875/1875 [==============================] - 3s 2ms/step - loss: 0.2957 - sparse_categorical_accuracy: 0.9175\n",
      "Epoch 11/100\n",
      "1875/1875 [==============================] - 3s 2ms/step - loss: 0.2945 - sparse_categorical_accuracy: 0.9192\n",
      "Epoch 12/100\n",
      "1875/1875 [==============================] - 3s 2ms/step - loss: 0.2927 - sparse_categorical_accuracy: 0.9200\n",
      "Epoch 13/100\n",
      "1875/1875 [==============================] - 3s 2ms/step - loss: 0.2910 - sparse_categorical_accuracy: 0.9191\n",
      "Epoch 14/100\n",
      "1875/1875 [==============================] - 3s 2ms/step - loss: 0.2903 - sparse_categorical_accuracy: 0.9195\n",
      "Epoch 15/100\n",
      "1875/1875 [==============================] - 3s 1ms/step - loss: 0.2906 - sparse_categorical_accuracy: 0.9206\n",
      "Epoch 16/100\n",
      "1875/1875 [==============================] - 3s 2ms/step - loss: 0.2891 - sparse_categorical_accuracy: 0.9205\n",
      "Epoch 17/100\n",
      "1875/1875 [==============================] - 3s 2ms/step - loss: 0.2880 - sparse_categorical_accuracy: 0.9203\n",
      "Epoch 18/100\n",
      "1875/1875 [==============================] - 3s 2ms/step - loss: 0.2883 - sparse_categorical_accuracy: 0.9204\n",
      "Epoch 19/100\n",
      "1875/1875 [==============================] - 3s 1ms/step - loss: 0.2878 - sparse_categorical_accuracy: 0.9200\n",
      "Epoch 20/100\n",
      "1875/1875 [==============================] - 3s 2ms/step - loss: 0.2865 - sparse_categorical_accuracy: 0.9209\n",
      "Epoch 21/100\n",
      "1875/1875 [==============================] - 3s 2ms/step - loss: 0.2872 - sparse_categorical_accuracy: 0.9219\n",
      "Epoch 22/100\n",
      "1875/1875 [==============================] - 3s 2ms/step - loss: 0.2873 - sparse_categorical_accuracy: 0.9220\n",
      "Epoch 23/100\n",
      "1875/1875 [==============================] - 3s 2ms/step - loss: 0.2852 - sparse_categorical_accuracy: 0.9227\n",
      "Epoch 24/100\n",
      "1875/1875 [==============================] - 3s 2ms/step - loss: 0.2859 - sparse_categorical_accuracy: 0.9204\n",
      "Epoch 25/100\n",
      "1875/1875 [==============================] - 3s 2ms/step - loss: 0.2850 - sparse_categorical_accuracy: 0.9214\n",
      "Epoch 26/100\n",
      "1875/1875 [==============================] - 3s 2ms/step - loss: 0.2850 - sparse_categorical_accuracy: 0.9226\n",
      "Epoch 27/100\n",
      "1875/1875 [==============================] - 3s 1ms/step - loss: 0.2833 - sparse_categorical_accuracy: 0.9226\n",
      "Epoch 28/100\n",
      "1875/1875 [==============================] - 3s 2ms/step - loss: 0.2842 - sparse_categorical_accuracy: 0.9220\n",
      "Epoch 29/100\n",
      "1875/1875 [==============================] - 3s 1ms/step - loss: 0.2839 - sparse_categorical_accuracy: 0.9222\n",
      "Epoch 30/100\n",
      "1875/1875 [==============================] - 3s 2ms/step - loss: 0.2850 - sparse_categorical_accuracy: 0.9223\n",
      "Epoch 31/100\n",
      "1875/1875 [==============================] - 3s 1ms/step - loss: 0.2834 - sparse_categorical_accuracy: 0.9230\n",
      "Epoch 32/100\n",
      "1875/1875 [==============================] - 2s 913us/step - loss: 0.2830 - sparse_categorical_accuracy: 0.9226\n",
      "Epoch 33/100\n",
      "1875/1875 [==============================] - 2s 1ms/step - loss: 0.2833 - sparse_categorical_accuracy: 0.9229\n",
      "Epoch 34/100\n",
      "1875/1875 [==============================] - 2s 981us/step - loss: 0.2835 - sparse_categorical_accuracy: 0.9234\n",
      "Epoch 35/100\n",
      "1875/1875 [==============================] - 3s 2ms/step - loss: 0.2808 - sparse_categorical_accuracy: 0.9227\n",
      "Epoch 36/100\n",
      "1875/1875 [==============================] - 2s 1ms/step - loss: 0.2823 - sparse_categorical_accuracy: 0.9230\n",
      "Epoch 37/100\n",
      "1875/1875 [==============================] - 3s 2ms/step - loss: 0.2813 - sparse_categorical_accuracy: 0.9223\n",
      "Epoch 38/100\n",
      "1875/1875 [==============================] - 3s 2ms/step - loss: 0.2829 - sparse_categorical_accuracy: 0.9224\n",
      "Epoch 39/100\n",
      "1875/1875 [==============================] - 3s 2ms/step - loss: 0.2814 - sparse_categorical_accuracy: 0.9224\n",
      "Epoch 40/100\n",
      "1875/1875 [==============================] - 3s 2ms/step - loss: 0.2808 - sparse_categorical_accuracy: 0.9229\n",
      "Epoch 41/100\n",
      "1875/1875 [==============================] - 3s 2ms/step - loss: 0.2822 - sparse_categorical_accuracy: 0.9226\n",
      "Epoch 42/100\n",
      "1875/1875 [==============================] - 3s 2ms/step - loss: 0.2823 - sparse_categorical_accuracy: 0.9229\n",
      "Epoch 43/100\n",
      "1875/1875 [==============================] - 3s 1ms/step - loss: 0.2822 - sparse_categorical_accuracy: 0.9226\n",
      "Epoch 44/100\n",
      "1875/1875 [==============================] - 2s 872us/step - loss: 0.2818 - sparse_categorical_accuracy: 0.9228\n",
      "Epoch 45/100\n",
      "1875/1875 [==============================] - 2s 853us/step - loss: 0.2820 - sparse_categorical_accuracy: 0.9227\n",
      "Epoch 46/100\n",
      "1875/1875 [==============================] - 2s 914us/step - loss: 0.2812 - sparse_categorical_accuracy: 0.9233\n",
      "Epoch 47/100\n",
      "1875/1875 [==============================] - 3s 2ms/step - loss: 0.2808 - sparse_categorical_accuracy: 0.9236\n",
      "Epoch 48/100\n",
      "1875/1875 [==============================] - 1s 767us/step - loss: 0.2805 - sparse_categorical_accuracy: 0.9240\n",
      "Epoch 49/100\n",
      "1875/1875 [==============================] - 2s 878us/step - loss: 0.2810 - sparse_categorical_accuracy: 0.9239\n",
      "Epoch 50/100\n",
      "1875/1875 [==============================] - 2s 842us/step - loss: 0.2817 - sparse_categorical_accuracy: 0.9238\n",
      "Epoch 51/100\n",
      "1875/1875 [==============================] - 3s 2ms/step - loss: 0.2808 - sparse_categorical_accuracy: 0.9240\n",
      "Epoch 52/100\n",
      "1875/1875 [==============================] - 3s 2ms/step - loss: 0.2813 - sparse_categorical_accuracy: 0.9243\n",
      "Epoch 53/100\n",
      "1875/1875 [==============================] - 3s 2ms/step - loss: 0.2812 - sparse_categorical_accuracy: 0.9236\n",
      "Epoch 54/100\n",
      "1875/1875 [==============================] - 4s 2ms/step - loss: 0.2809 - sparse_categorical_accuracy: 0.9232\n",
      "Epoch 55/100\n",
      "1875/1875 [==============================] - 3s 2ms/step - loss: 0.2802 - sparse_categorical_accuracy: 0.9242\n",
      "Epoch 56/100\n",
      "1875/1875 [==============================] - 3s 2ms/step - loss: 0.2811 - sparse_categorical_accuracy: 0.9233\n",
      "Epoch 57/100\n",
      "1875/1875 [==============================] - 3s 2ms/step - loss: 0.2809 - sparse_categorical_accuracy: 0.9235\n",
      "Epoch 58/100\n",
      "1875/1875 [==============================] - 3s 2ms/step - loss: 0.2803 - sparse_categorical_accuracy: 0.9232\n",
      "Epoch 59/100\n",
      "1875/1875 [==============================] - 3s 2ms/step - loss: 0.2802 - sparse_categorical_accuracy: 0.9241\n",
      "Epoch 60/100\n",
      "1875/1875 [==============================] - 3s 2ms/step - loss: 0.2807 - sparse_categorical_accuracy: 0.9243\n",
      "Epoch 61/100\n",
      "1875/1875 [==============================] - 3s 1ms/step - loss: 0.2796 - sparse_categorical_accuracy: 0.9234\n",
      "Epoch 62/100\n",
      "1875/1875 [==============================] - 2s 1ms/step - loss: 0.2815 - sparse_categorical_accuracy: 0.9241\n",
      "Epoch 63/100\n",
      "1875/1875 [==============================] - 3s 1ms/step - loss: 0.2799 - sparse_categorical_accuracy: 0.9240\n",
      "Epoch 64/100\n",
      "1875/1875 [==============================] - 3s 2ms/step - loss: 0.2806 - sparse_categorical_accuracy: 0.9235\n",
      "Epoch 65/100\n",
      "1875/1875 [==============================] - 3s 2ms/step - loss: 0.2805 - sparse_categorical_accuracy: 0.9233\n",
      "Epoch 66/100\n",
      "1875/1875 [==============================] - 2s 1ms/step - loss: 0.2803 - sparse_categorical_accuracy: 0.9240\n",
      "Epoch 67/100\n"
     ]
    },
    {
     "name": "stdout",
     "output_type": "stream",
     "text": [
      "1875/1875 [==============================] - 2s 1ms/step - loss: 0.2806 - sparse_categorical_accuracy: 0.9233\n",
      "Epoch 68/100\n",
      "1875/1875 [==============================] - 2s 1ms/step - loss: 0.2802 - sparse_categorical_accuracy: 0.9239\n",
      "Epoch 69/100\n",
      "1875/1875 [==============================] - 1s 749us/step - loss: 0.2804 - sparse_categorical_accuracy: 0.9247\n",
      "Epoch 70/100\n",
      "1875/1875 [==============================] - 2s 1ms/step - loss: 0.2800 - sparse_categorical_accuracy: 0.9238\n",
      "Epoch 71/100\n",
      "1875/1875 [==============================] - 2s 878us/step - loss: 0.2789 - sparse_categorical_accuracy: 0.9237\n",
      "Epoch 72/100\n",
      "1875/1875 [==============================] - 2s 810us/step - loss: 0.2803 - sparse_categorical_accuracy: 0.9241\n",
      "Epoch 73/100\n",
      "1875/1875 [==============================] - 2s 982us/step - loss: 0.2800 - sparse_categorical_accuracy: 0.9226\n",
      "Epoch 74/100\n",
      "1875/1875 [==============================] - 2s 982us/step - loss: 0.2803 - sparse_categorical_accuracy: 0.9241\n",
      "Epoch 75/100\n",
      "1875/1875 [==============================] - 2s 930us/step - loss: 0.2799 - sparse_categorical_accuracy: 0.9235\n",
      "Epoch 76/100\n",
      "1875/1875 [==============================] - 1s 791us/step - loss: 0.2809 - sparse_categorical_accuracy: 0.9234\n",
      "Epoch 77/100\n",
      "1875/1875 [==============================] - 2s 842us/step - loss: 0.2808 - sparse_categorical_accuracy: 0.9238\n",
      "Epoch 78/100\n",
      "1875/1875 [==============================] - 2s 1ms/step - loss: 0.2813 - sparse_categorical_accuracy: 0.9243\n",
      "Epoch 79/100\n",
      "1875/1875 [==============================] - 2s 898us/step - loss: 0.2804 - sparse_categorical_accuracy: 0.9242\n",
      "Epoch 80/100\n",
      "1875/1875 [==============================] - 1s 796us/step - loss: 0.2803 - sparse_categorical_accuracy: 0.9237\n",
      "Epoch 81/100\n",
      "1875/1875 [==============================] - 2s 811us/step - loss: 0.2811 - sparse_categorical_accuracy: 0.9238\n",
      "Epoch 82/100\n",
      "1875/1875 [==============================] - 2s 906us/step - loss: 0.2800 - sparse_categorical_accuracy: 0.9234\n",
      "Epoch 83/100\n",
      "1875/1875 [==============================] - 2s 871us/step - loss: 0.2813 - sparse_categorical_accuracy: 0.9240\n",
      "Epoch 84/100\n",
      "1875/1875 [==============================] - 3s 2ms/step - loss: 0.2800 - sparse_categorical_accuracy: 0.9236\n",
      "Epoch 85/100\n",
      "1875/1875 [==============================] - 2s 1ms/step - loss: 0.2788 - sparse_categorical_accuracy: 0.9238\n",
      "Epoch 86/100\n",
      "1875/1875 [==============================] - 2s 807us/step - loss: 0.2812 - sparse_categorical_accuracy: 0.9231\n",
      "Epoch 87/100\n",
      "1875/1875 [==============================] - 2s 880us/step - loss: 0.2800 - sparse_categorical_accuracy: 0.9234\n",
      "Epoch 88/100\n",
      "1875/1875 [==============================] - 2s 817us/step - loss: 0.2795 - sparse_categorical_accuracy: 0.9224\n",
      "Epoch 89/100\n",
      "1875/1875 [==============================] - 2s 874us/step - loss: 0.2806 - sparse_categorical_accuracy: 0.9234\n",
      "Epoch 90/100\n",
      "1875/1875 [==============================] - 2s 844us/step - loss: 0.2797 - sparse_categorical_accuracy: 0.9244\n",
      "Epoch 91/100\n",
      "1875/1875 [==============================] - 2s 992us/step - loss: 0.2814 - sparse_categorical_accuracy: 0.9241\n",
      "Epoch 92/100\n",
      "1875/1875 [==============================] - 3s 2ms/step - loss: 0.2787 - sparse_categorical_accuracy: 0.9240\n",
      "Epoch 93/100\n",
      "1875/1875 [==============================] - 2s 988us/step - loss: 0.2797 - sparse_categorical_accuracy: 0.9243\n",
      "Epoch 94/100\n",
      "1875/1875 [==============================] - 2s 1ms/step - loss: 0.2799 - sparse_categorical_accuracy: 0.9239\n",
      "Epoch 95/100\n",
      "1875/1875 [==============================] - 2s 1ms/step - loss: 0.2803 - sparse_categorical_accuracy: 0.9237\n",
      "Epoch 96/100\n",
      "1875/1875 [==============================] - 2s 812us/step - loss: 0.2798 - sparse_categorical_accuracy: 0.9238\n",
      "Epoch 97/100\n",
      "1875/1875 [==============================] - 2s 817us/step - loss: 0.2812 - sparse_categorical_accuracy: 0.9224\n",
      "Epoch 98/100\n",
      "1875/1875 [==============================] - 2s 830us/step - loss: 0.2791 - sparse_categorical_accuracy: 0.9232\n",
      "Epoch 99/100\n",
      "1875/1875 [==============================] - 2s 868us/step - loss: 0.2804 - sparse_categorical_accuracy: 0.9234\n",
      "Epoch 100/100\n",
      "1875/1875 [==============================] - 2s 837us/step - loss: 0.2795 - sparse_categorical_accuracy: 0.9226\n"
     ]
    },
    {
     "data": {
      "text/plain": [
       "<tensorflow.python.keras.callbacks.History at 0x7f4d5c6820d0>"
      ]
     },
     "execution_count": 119,
     "metadata": {},
     "output_type": "execute_result"
    }
   ],
   "source": [
    "print('Train on training data')\n",
    "model.fit(X_train, Y_train, batch_size=32, epochs=100)"
   ]
  },
  {
   "cell_type": "code",
   "execution_count": 47,
   "metadata": {},
   "outputs": [
    {
     "name": "stdout",
     "output_type": "stream",
     "text": [
      "Evaluate on test data\n",
      "79/79 [==============================] - 0s 531us/step - loss: 0.3070 - sparse_categorical_accuracy: 0.9137\n"
     ]
    }
   ],
   "source": [
    "print(\"Evaluate on test data\")\n",
    "results = model.evaluate(X_test, Y_test, batch_size=128)\n"
   ]
  },
  {
   "cell_type": "markdown",
   "metadata": {},
   "source": [
    "## Hyperparameter Tuning\n",
    "With the current hyperparameters, we get an accuracy of around 90%.  This isn't bad, but we can see how different hyperparameters effect our model's performance.  First, let's look at the effect of the number of nodes in our single hidden layer.  To do this, we can first define a function that will build a model with $n$ nodes in the hidden layer:"
   ]
  },
  {
   "cell_type": "code",
   "execution_count": 49,
   "metadata": {},
   "outputs": [],
   "source": [
    "def build_model(n):\n",
    "    model = tf.keras.Sequential()\n",
    "    model.add(tf.keras.Input(shape=input_shape))\n",
    "    model.add(tf.keras.layers.Dense(n))\n",
    "    model.add(tf.keras.layers.Dense(output_shape))\n",
    "    model.compile(optimizer='adam',\n",
    "              loss=tf.keras.losses.SparseCategoricalCrossentropy(from_logits=True),\n",
    "              metrics=[tf.keras.metrics.SparseCategoricalAccuracy()],)\n",
    "    return model"
   ]
  },
  {
   "cell_type": "code",
   "execution_count": 89,
   "metadata": {},
   "outputs": [
    {
     "name": "stdout",
     "output_type": "stream",
     "text": [
      "Epoch 1/10\n",
      "1875/1875 [==============================] - 1s 376us/step - loss: 0.4017 - sparse_categorical_accuracy: 0.8875\n",
      "Epoch 2/10\n",
      "1875/1875 [==============================] - 1s 406us/step - loss: 0.2902 - sparse_categorical_accuracy: 0.9183\n",
      "Epoch 3/10\n",
      "1875/1875 [==============================] - 1s 410us/step - loss: 0.2779 - sparse_categorical_accuracy: 0.9232\n",
      "Epoch 4/10\n",
      "1875/1875 [==============================] - 1s 409us/step - loss: 0.2710 - sparse_categorical_accuracy: 0.9245\n",
      "Epoch 5/10\n",
      "1875/1875 [==============================] - 1s 411us/step - loss: 0.2666 - sparse_categorical_accuracy: 0.9261\n",
      "Epoch 6/10\n",
      "1875/1875 [==============================] - 1s 416us/step - loss: 0.2631 - sparse_categorical_accuracy: 0.9275\n",
      "Epoch 7/10\n",
      "1875/1875 [==============================] - 1s 424us/step - loss: 0.2606 - sparse_categorical_accuracy: 0.9271\n",
      "Epoch 8/10\n",
      "1875/1875 [==============================] - 1s 431us/step - loss: 0.2575 - sparse_categorical_accuracy: 0.9295\n",
      "Epoch 9/10\n",
      "1875/1875 [==============================] - 1s 434us/step - loss: 0.2565 - sparse_categorical_accuracy: 0.9288\n",
      "Epoch 10/10\n",
      "1875/1875 [==============================] - 1s 435us/step - loss: 0.2548 - sparse_categorical_accuracy: 0.9285\n",
      "79/79 [==============================] - 0s 391us/step - loss: 0.2854 - sparse_categorical_accuracy: 0.9237\n",
      "Epoch 1/10\n",
      "1875/1875 [==============================] - 1s 436us/step - loss: 0.3903 - sparse_categorical_accuracy: 0.8898\n",
      "Epoch 2/10\n",
      "1875/1875 [==============================] - 1s 447us/step - loss: 0.2907 - sparse_categorical_accuracy: 0.9182\n",
      "Epoch 3/10\n",
      "1875/1875 [==============================] - 1s 451us/step - loss: 0.2789 - sparse_categorical_accuracy: 0.9227\n",
      "Epoch 4/10\n",
      "1875/1875 [==============================] - 1s 463us/step - loss: 0.2720 - sparse_categorical_accuracy: 0.9246\n",
      "Epoch 5/10\n",
      "1875/1875 [==============================] - 1s 456us/step - loss: 0.2681 - sparse_categorical_accuracy: 0.9261\n",
      "Epoch 6/10\n",
      "1875/1875 [==============================] - 1s 454us/step - loss: 0.2642 - sparse_categorical_accuracy: 0.9265\n",
      "Epoch 7/10\n",
      "1875/1875 [==============================] - 1s 450us/step - loss: 0.2608 - sparse_categorical_accuracy: 0.9269\n",
      "Epoch 8/10\n",
      "1875/1875 [==============================] - 1s 458us/step - loss: 0.2592 - sparse_categorical_accuracy: 0.9270\n",
      "Epoch 9/10\n",
      "1875/1875 [==============================] - 1s 451us/step - loss: 0.2586 - sparse_categorical_accuracy: 0.9278\n",
      "Epoch 10/10\n",
      "1875/1875 [==============================] - 1s 467us/step - loss: 0.2559 - sparse_categorical_accuracy: 0.9284\n",
      "79/79 [==============================] - 0s 394us/step - loss: 0.2707 - sparse_categorical_accuracy: 0.9241\n",
      "Epoch 1/10\n",
      "1875/1875 [==============================] - 1s 494us/step - loss: 0.3740 - sparse_categorical_accuracy: 0.8947\n",
      "Epoch 2/10\n",
      "1875/1875 [==============================] - 1s 462us/step - loss: 0.2905 - sparse_categorical_accuracy: 0.9190\n",
      "Epoch 3/10\n",
      "1875/1875 [==============================] - 1s 463us/step - loss: 0.2803 - sparse_categorical_accuracy: 0.9218\n",
      "Epoch 4/10\n",
      "1875/1875 [==============================] - 1s 467us/step - loss: 0.2741 - sparse_categorical_accuracy: 0.9239\n",
      "Epoch 5/10\n",
      "1875/1875 [==============================] - 1s 466us/step - loss: 0.2689 - sparse_categorical_accuracy: 0.9250\n",
      "Epoch 6/10\n",
      "1875/1875 [==============================] - 1s 476us/step - loss: 0.2656 - sparse_categorical_accuracy: 0.9254\n",
      "Epoch 7/10\n",
      "1875/1875 [==============================] - 1s 497us/step - loss: 0.2631 - sparse_categorical_accuracy: 0.9260\n",
      "Epoch 8/10\n",
      "1875/1875 [==============================] - 1s 466us/step - loss: 0.2609 - sparse_categorical_accuracy: 0.9272\n",
      "Epoch 9/10\n",
      "1875/1875 [==============================] - 1s 470us/step - loss: 0.2587 - sparse_categorical_accuracy: 0.9280\n",
      "Epoch 10/10\n",
      "1875/1875 [==============================] - 1s 469us/step - loss: 0.2581 - sparse_categorical_accuracy: 0.9278\n",
      "79/79 [==============================] - 0s 408us/step - loss: 0.2795 - sparse_categorical_accuracy: 0.9251\n",
      "Epoch 1/10\n",
      "1875/1875 [==============================] - 1s 458us/step - loss: 0.3724 - sparse_categorical_accuracy: 0.8950\n",
      "Epoch 2/10\n",
      "1875/1875 [==============================] - 1s 466us/step - loss: 0.2916 - sparse_categorical_accuracy: 0.9183\n",
      "Epoch 3/10\n",
      "1875/1875 [==============================] - 1s 468us/step - loss: 0.2803 - sparse_categorical_accuracy: 0.9215\n",
      "Epoch 4/10\n",
      "1875/1875 [==============================] - 1s 471us/step - loss: 0.2741 - sparse_categorical_accuracy: 0.9233\n",
      "Epoch 5/10\n",
      "1875/1875 [==============================] - 1s 466us/step - loss: 0.2694 - sparse_categorical_accuracy: 0.9255\n",
      "Epoch 6/10\n",
      "1875/1875 [==============================] - 1s 468us/step - loss: 0.2673 - sparse_categorical_accuracy: 0.9255\n",
      "Epoch 7/10\n",
      "1875/1875 [==============================] - 1s 470us/step - loss: 0.2628 - sparse_categorical_accuracy: 0.9276\n",
      "Epoch 8/10\n",
      "1875/1875 [==============================] - 1s 498us/step - loss: 0.2617 - sparse_categorical_accuracy: 0.9272\n",
      "Epoch 9/10\n",
      "1875/1875 [==============================] - 1s 471us/step - loss: 0.2594 - sparse_categorical_accuracy: 0.9283\n",
      "Epoch 10/10\n",
      "1875/1875 [==============================] - 1s 470us/step - loss: 0.2584 - sparse_categorical_accuracy: 0.9271\n",
      "79/79 [==============================] - 0s 430us/step - loss: 0.2832 - sparse_categorical_accuracy: 0.9203\n",
      "Epoch 1/10\n",
      "1875/1875 [==============================] - 1s 512us/step - loss: 0.3669 - sparse_categorical_accuracy: 0.8953\n",
      "Epoch 2/10\n",
      "1875/1875 [==============================] - 1s 499us/step - loss: 0.2914 - sparse_categorical_accuracy: 0.9185\n",
      "Epoch 3/10\n",
      "1875/1875 [==============================] - 1s 683us/step - loss: 0.2812 - sparse_categorical_accuracy: 0.9213\n",
      "Epoch 4/10\n",
      "1875/1875 [==============================] - 1s 654us/step - loss: 0.2763 - sparse_categorical_accuracy: 0.9230\n",
      "Epoch 5/10\n",
      "1875/1875 [==============================] - 1s 491us/step - loss: 0.2694 - sparse_categorical_accuracy: 0.9243\n",
      "Epoch 6/10\n",
      "1875/1875 [==============================] - 1s 492us/step - loss: 0.2672 - sparse_categorical_accuracy: 0.9260\n",
      "Epoch 7/10\n",
      "1875/1875 [==============================] - 1s 494us/step - loss: 0.2643 - sparse_categorical_accuracy: 0.9257\n",
      "Epoch 8/10\n",
      "1875/1875 [==============================] - 1s 491us/step - loss: 0.2627 - sparse_categorical_accuracy: 0.9258\n",
      "Epoch 9/10\n",
      "1875/1875 [==============================] - 1s 496us/step - loss: 0.2606 - sparse_categorical_accuracy: 0.9278\n",
      "Epoch 10/10\n",
      "1875/1875 [==============================] - 1s 495us/step - loss: 0.2595 - sparse_categorical_accuracy: 0.9287\n",
      "79/79 [==============================] - 0s 421us/step - loss: 0.2719 - sparse_categorical_accuracy: 0.9246\n",
      "Epoch 1/10\n",
      "1875/1875 [==============================] - 1s 506us/step - loss: 0.3667 - sparse_categorical_accuracy: 0.8962\n",
      "Epoch 2/10\n",
      "1875/1875 [==============================] - 1s 520us/step - loss: 0.2941 - sparse_categorical_accuracy: 0.9186\n",
      "Epoch 3/10\n",
      "1875/1875 [==============================] - 1s 539us/step - loss: 0.2838 - sparse_categorical_accuracy: 0.9212\n",
      "Epoch 4/10\n",
      "1875/1875 [==============================] - 1s 555us/step - loss: 0.2765 - sparse_categorical_accuracy: 0.9219\n",
      "Epoch 5/10\n",
      "1875/1875 [==============================] - 1s 537us/step - loss: 0.2710 - sparse_categorical_accuracy: 0.9242\n",
      "Epoch 6/10\n",
      "1875/1875 [==============================] - 1s 537us/step - loss: 0.2680 - sparse_categorical_accuracy: 0.9246\n",
      "Epoch 7/10\n",
      "1875/1875 [==============================] - 1s 503us/step - loss: 0.2662 - sparse_categorical_accuracy: 0.9254\n",
      "Epoch 8/10\n",
      "1875/1875 [==============================] - 1s 513us/step - loss: 0.2630 - sparse_categorical_accuracy: 0.9271\n",
      "Epoch 9/10\n",
      "1875/1875 [==============================] - 1s 513us/step - loss: 0.2625 - sparse_categorical_accuracy: 0.9265\n",
      "Epoch 10/10\n",
      "1875/1875 [==============================] - 1s 537us/step - loss: 0.2596 - sparse_categorical_accuracy: 0.9271\n",
      "79/79 [==============================] - 0s 535us/step - loss: 0.2839 - sparse_categorical_accuracy: 0.9222\n",
      "Epoch 1/10\n",
      "1875/1875 [==============================] - 1s 526us/step - loss: 0.3624 - sparse_categorical_accuracy: 0.8967\n",
      "Epoch 2/10\n"
     ]
    },
    {
     "name": "stdout",
     "output_type": "stream",
     "text": [
      "1875/1875 [==============================] - 1s 528us/step - loss: 0.2951 - sparse_categorical_accuracy: 0.9172\n",
      "Epoch 3/10\n",
      "1875/1875 [==============================] - 1s 522us/step - loss: 0.2831 - sparse_categorical_accuracy: 0.9212\n",
      "Epoch 4/10\n",
      "1875/1875 [==============================] - 1s 522us/step - loss: 0.2771 - sparse_categorical_accuracy: 0.9232\n",
      "Epoch 5/10\n",
      "1875/1875 [==============================] - 1s 528us/step - loss: 0.2726 - sparse_categorical_accuracy: 0.9238\n",
      "Epoch 6/10\n",
      "1875/1875 [==============================] - 1s 525us/step - loss: 0.2696 - sparse_categorical_accuracy: 0.9250\n",
      "Epoch 7/10\n",
      "1875/1875 [==============================] - 1s 505us/step - loss: 0.2660 - sparse_categorical_accuracy: 0.9259\n",
      "Epoch 8/10\n",
      "1875/1875 [==============================] - 1s 531us/step - loss: 0.2629 - sparse_categorical_accuracy: 0.9264\n",
      "Epoch 9/10\n",
      "1875/1875 [==============================] - 1s 528us/step - loss: 0.2623 - sparse_categorical_accuracy: 0.9261\n",
      "Epoch 10/10\n",
      "1875/1875 [==============================] - 1s 522us/step - loss: 0.2601 - sparse_categorical_accuracy: 0.9274\n",
      "79/79 [==============================] - 0s 448us/step - loss: 0.2808 - sparse_categorical_accuracy: 0.9248\n",
      "Epoch 1/10\n",
      "1875/1875 [==============================] - 1s 513us/step - loss: 0.3651 - sparse_categorical_accuracy: 0.8960\n",
      "Epoch 2/10\n",
      "1875/1875 [==============================] - 1s 538us/step - loss: 0.2961 - sparse_categorical_accuracy: 0.9177\n",
      "Epoch 3/10\n",
      "1875/1875 [==============================] - 1s 533us/step - loss: 0.2827 - sparse_categorical_accuracy: 0.9212\n",
      "Epoch 4/10\n",
      "1875/1875 [==============================] - 1s 507us/step - loss: 0.2781 - sparse_categorical_accuracy: 0.9222\n",
      "Epoch 5/10\n",
      "1875/1875 [==============================] - 1s 527us/step - loss: 0.2726 - sparse_categorical_accuracy: 0.9244\n",
      "Epoch 6/10\n",
      "1875/1875 [==============================] - 1s 542us/step - loss: 0.2692 - sparse_categorical_accuracy: 0.9248\n",
      "Epoch 7/10\n",
      "1875/1875 [==============================] - 1s 504us/step - loss: 0.2670 - sparse_categorical_accuracy: 0.9257\n",
      "Epoch 8/10\n",
      "1875/1875 [==============================] - 1s 518us/step - loss: 0.2647 - sparse_categorical_accuracy: 0.9263\n",
      "Epoch 9/10\n",
      "1875/1875 [==============================] - 1s 522us/step - loss: 0.2633 - sparse_categorical_accuracy: 0.9267\n",
      "Epoch 10/10\n",
      "1875/1875 [==============================] - 1s 514us/step - loss: 0.2601 - sparse_categorical_accuracy: 0.9270\n",
      "79/79 [==============================] - 0s 714us/step - loss: 0.2887 - sparse_categorical_accuracy: 0.9190\n",
      "Epoch 1/10\n",
      "1875/1875 [==============================] - 1s 530us/step - loss: 0.3610 - sparse_categorical_accuracy: 0.8979\n",
      "Epoch 2/10\n",
      "1875/1875 [==============================] - 1s 541us/step - loss: 0.2955 - sparse_categorical_accuracy: 0.9163\n",
      "Epoch 3/10\n",
      "1875/1875 [==============================] - 1s 518us/step - loss: 0.2832 - sparse_categorical_accuracy: 0.9206\n",
      "Epoch 4/10\n",
      "1875/1875 [==============================] - 1s 536us/step - loss: 0.2788 - sparse_categorical_accuracy: 0.9221\n",
      "Epoch 5/10\n",
      "1875/1875 [==============================] - 1s 532us/step - loss: 0.2744 - sparse_categorical_accuracy: 0.9232\n",
      "Epoch 6/10\n",
      "1875/1875 [==============================] - 1s 521us/step - loss: 0.2709 - sparse_categorical_accuracy: 0.9241\n",
      "Epoch 7/10\n",
      "1875/1875 [==============================] - 1s 523us/step - loss: 0.2661 - sparse_categorical_accuracy: 0.9249\n",
      "Epoch 8/10\n",
      "1875/1875 [==============================] - 1s 578us/step - loss: 0.2657 - sparse_categorical_accuracy: 0.9254\n",
      "Epoch 9/10\n",
      "1875/1875 [==============================] - 1s 587us/step - loss: 0.2635 - sparse_categorical_accuracy: 0.9259\n",
      "Epoch 10/10\n",
      "1875/1875 [==============================] - 1s 595us/step - loss: 0.2613 - sparse_categorical_accuracy: 0.9267\n",
      "79/79 [==============================] - 0s 532us/step - loss: 0.2883 - sparse_categorical_accuracy: 0.9217\n",
      "Epoch 1/10\n",
      "1875/1875 [==============================] - 1s 572us/step - loss: 0.3589 - sparse_categorical_accuracy: 0.8985\n",
      "Epoch 2/10\n",
      "1875/1875 [==============================] - 1s 588us/step - loss: 0.2975 - sparse_categorical_accuracy: 0.9172\n",
      "Epoch 3/10\n",
      "1875/1875 [==============================] - 1s 581us/step - loss: 0.2856 - sparse_categorical_accuracy: 0.9202\n",
      "Epoch 4/10\n",
      "1875/1875 [==============================] - 1s 521us/step - loss: 0.2816 - sparse_categorical_accuracy: 0.9211\n",
      "Epoch 5/10\n",
      "1875/1875 [==============================] - 1s 524us/step - loss: 0.2754 - sparse_categorical_accuracy: 0.9231\n",
      "Epoch 6/10\n",
      "1875/1875 [==============================] - 1s 547us/step - loss: 0.2729 - sparse_categorical_accuracy: 0.9227\n",
      "Epoch 7/10\n",
      "1875/1875 [==============================] - 1s 534us/step - loss: 0.2690 - sparse_categorical_accuracy: 0.9252\n",
      "Epoch 8/10\n",
      "1875/1875 [==============================] - 1s 545us/step - loss: 0.2662 - sparse_categorical_accuracy: 0.9259\n",
      "Epoch 9/10\n",
      "1875/1875 [==============================] - 1s 548us/step - loss: 0.2637 - sparse_categorical_accuracy: 0.9256\n",
      "Epoch 10/10\n",
      "1875/1875 [==============================] - 1s 532us/step - loss: 0.2626 - sparse_categorical_accuracy: 0.9270\n",
      "79/79 [==============================] - 0s 527us/step - loss: 0.2859 - sparse_categorical_accuracy: 0.9253\n",
      "Epoch 1/10\n",
      "1875/1875 [==============================] - 1s 652us/step - loss: 0.3598 - sparse_categorical_accuracy: 0.8971\n",
      "Epoch 2/10\n",
      "1875/1875 [==============================] - 2s 954us/step - loss: 0.2962 - sparse_categorical_accuracy: 0.9174\n",
      "Epoch 3/10\n",
      "1875/1875 [==============================] - 1s 561us/step - loss: 0.2869 - sparse_categorical_accuracy: 0.9211\n",
      "Epoch 4/10\n",
      "1875/1875 [==============================] - 1s 577us/step - loss: 0.2798 - sparse_categorical_accuracy: 0.9222\n",
      "Epoch 5/10\n",
      "1875/1875 [==============================] - 1s 582us/step - loss: 0.2751 - sparse_categorical_accuracy: 0.9239\n",
      "Epoch 6/10\n",
      "1875/1875 [==============================] - 1s 549us/step - loss: 0.2718 - sparse_categorical_accuracy: 0.9243\n",
      "Epoch 7/10\n",
      "1875/1875 [==============================] - 1s 549us/step - loss: 0.2693 - sparse_categorical_accuracy: 0.9252\n",
      "Epoch 8/10\n",
      "1875/1875 [==============================] - 1s 549us/step - loss: 0.2684 - sparse_categorical_accuracy: 0.9248\n",
      "Epoch 9/10\n",
      "1875/1875 [==============================] - 1s 551us/step - loss: 0.2651 - sparse_categorical_accuracy: 0.9260\n",
      "Epoch 10/10\n",
      "1875/1875 [==============================] - 1s 577us/step - loss: 0.2631 - sparse_categorical_accuracy: 0.9259\n",
      "79/79 [==============================] - 0s 468us/step - loss: 0.2885 - sparse_categorical_accuracy: 0.9208\n",
      "Epoch 1/10\n",
      "1875/1875 [==============================] - 1s 572us/step - loss: 0.3585 - sparse_categorical_accuracy: 0.8974\n",
      "Epoch 2/10\n",
      "1875/1875 [==============================] - 1s 579us/step - loss: 0.2982 - sparse_categorical_accuracy: 0.9167\n",
      "Epoch 3/10\n",
      "1875/1875 [==============================] - 1s 563us/step - loss: 0.2874 - sparse_categorical_accuracy: 0.9196\n",
      "Epoch 4/10\n",
      "1875/1875 [==============================] - 1s 574us/step - loss: 0.2785 - sparse_categorical_accuracy: 0.9215\n",
      "Epoch 5/10\n",
      "1875/1875 [==============================] - 1s 564us/step - loss: 0.2776 - sparse_categorical_accuracy: 0.9230\n",
      "Epoch 6/10\n",
      "1875/1875 [==============================] - 1s 575us/step - loss: 0.2723 - sparse_categorical_accuracy: 0.9248\n",
      "Epoch 7/10\n",
      "1875/1875 [==============================] - 1s 556us/step - loss: 0.2694 - sparse_categorical_accuracy: 0.9241\n",
      "Epoch 8/10\n",
      "1875/1875 [==============================] - 1s 580us/step - loss: 0.2671 - sparse_categorical_accuracy: 0.9252\n",
      "Epoch 9/10\n",
      "1875/1875 [==============================] - 1s 591us/step - loss: 0.2646 - sparse_categorical_accuracy: 0.9256\n",
      "Epoch 10/10\n",
      "1875/1875 [==============================] - 1s 570us/step - loss: 0.2637 - sparse_categorical_accuracy: 0.9261\n",
      "79/79 [==============================] - 0s 487us/step - loss: 0.2965 - sparse_categorical_accuracy: 0.9164\n",
      "Epoch 1/10\n",
      "1875/1875 [==============================] - 1s 582us/step - loss: 0.3584 - sparse_categorical_accuracy: 0.8976\n",
      "Epoch 2/10\n",
      "1875/1875 [==============================] - 1s 607us/step - loss: 0.2989 - sparse_categorical_accuracy: 0.9158\n",
      "Epoch 3/10\n"
     ]
    },
    {
     "name": "stdout",
     "output_type": "stream",
     "text": [
      "1875/1875 [==============================] - 1s 610us/step - loss: 0.2865 - sparse_categorical_accuracy: 0.9193\n",
      "Epoch 4/10\n",
      "1875/1875 [==============================] - 1s 565us/step - loss: 0.2798 - sparse_categorical_accuracy: 0.9215\n",
      "Epoch 5/10\n",
      "1875/1875 [==============================] - 1s 564us/step - loss: 0.2768 - sparse_categorical_accuracy: 0.9231\n",
      "Epoch 6/10\n",
      "1875/1875 [==============================] - 1s 560us/step - loss: 0.2720 - sparse_categorical_accuracy: 0.9246\n",
      "Epoch 7/10\n",
      "1875/1875 [==============================] - 1s 585us/step - loss: 0.2698 - sparse_categorical_accuracy: 0.9245\n",
      "Epoch 8/10\n",
      "1875/1875 [==============================] - 1s 598us/step - loss: 0.2672 - sparse_categorical_accuracy: 0.9246\n",
      "Epoch 9/10\n",
      "1875/1875 [==============================] - 1s 590us/step - loss: 0.2657 - sparse_categorical_accuracy: 0.9261\n",
      "Epoch 10/10\n",
      "1875/1875 [==============================] - 1s 589us/step - loss: 0.2638 - sparse_categorical_accuracy: 0.9260\n",
      "79/79 [==============================] - 0s 566us/step - loss: 0.2828 - sparse_categorical_accuracy: 0.9243\n",
      "Epoch 1/10\n",
      "1875/1875 [==============================] - 1s 581us/step - loss: 0.3621 - sparse_categorical_accuracy: 0.8971\n",
      "Epoch 2/10\n",
      "1875/1875 [==============================] - 1s 732us/step - loss: 0.2989 - sparse_categorical_accuracy: 0.9172\n",
      "Epoch 3/10\n",
      "1875/1875 [==============================] - 1s 583us/step - loss: 0.2881 - sparse_categorical_accuracy: 0.9194\n",
      "Epoch 4/10\n",
      "1875/1875 [==============================] - 1s 573us/step - loss: 0.2807 - sparse_categorical_accuracy: 0.9210\n",
      "Epoch 5/10\n",
      "1875/1875 [==============================] - 1s 595us/step - loss: 0.2762 - sparse_categorical_accuracy: 0.9226\n",
      "Epoch 6/10\n",
      "1875/1875 [==============================] - 1s 572us/step - loss: 0.2738 - sparse_categorical_accuracy: 0.9233\n",
      "Epoch 7/10\n",
      "1875/1875 [==============================] - 1s 618us/step - loss: 0.2698 - sparse_categorical_accuracy: 0.9237\n",
      "Epoch 8/10\n",
      "1875/1875 [==============================] - 1s 575us/step - loss: 0.2678 - sparse_categorical_accuracy: 0.9250\n",
      "Epoch 9/10\n",
      "1875/1875 [==============================] - 1s 607us/step - loss: 0.2671 - sparse_categorical_accuracy: 0.9250\n",
      "Epoch 10/10\n",
      "1875/1875 [==============================] - 1s 568us/step - loss: 0.2644 - sparse_categorical_accuracy: 0.9264\n",
      "79/79 [==============================] - 0s 508us/step - loss: 0.2813 - sparse_categorical_accuracy: 0.9221\n",
      "Epoch 1/10\n",
      "1875/1875 [==============================] - 1s 573us/step - loss: 0.3578 - sparse_categorical_accuracy: 0.8982\n",
      "Epoch 2/10\n",
      "1875/1875 [==============================] - 1s 605us/step - loss: 0.2994 - sparse_categorical_accuracy: 0.9169\n",
      "Epoch 3/10\n",
      "1875/1875 [==============================] - 1s 577us/step - loss: 0.2889 - sparse_categorical_accuracy: 0.9182\n",
      "Epoch 4/10\n",
      "1875/1875 [==============================] - 1s 585us/step - loss: 0.2822 - sparse_categorical_accuracy: 0.9207\n",
      "Epoch 5/10\n",
      "1875/1875 [==============================] - 1s 597us/step - loss: 0.2781 - sparse_categorical_accuracy: 0.9221\n",
      "Epoch 6/10\n",
      "1875/1875 [==============================] - 1s 581us/step - loss: 0.2734 - sparse_categorical_accuracy: 0.9234\n",
      "Epoch 7/10\n",
      "1875/1875 [==============================] - 1s 789us/step - loss: 0.2708 - sparse_categorical_accuracy: 0.9247\n",
      "Epoch 8/10\n",
      "1875/1875 [==============================] - 3s 1ms/step - loss: 0.2685 - sparse_categorical_accuracy: 0.9249\n",
      "Epoch 9/10\n",
      "1875/1875 [==============================] - 1s 789us/step - loss: 0.2666 - sparse_categorical_accuracy: 0.9255\n",
      "Epoch 10/10\n",
      "1875/1875 [==============================] - 1s 605us/step - loss: 0.2630 - sparse_categorical_accuracy: 0.9262\n",
      "79/79 [==============================] - 0s 534us/step - loss: 0.2773 - sparse_categorical_accuracy: 0.9250\n",
      "Epoch 1/10\n",
      "1875/1875 [==============================] - 2s 881us/step - loss: 0.3596 - sparse_categorical_accuracy: 0.8966\n",
      "Epoch 2/10\n",
      "1875/1875 [==============================] - 2s 958us/step - loss: 0.2998 - sparse_categorical_accuracy: 0.9169\n",
      "Epoch 3/10\n",
      "1875/1875 [==============================] - 1s 707us/step - loss: 0.2899 - sparse_categorical_accuracy: 0.9193\n",
      "Epoch 4/10\n",
      "1875/1875 [==============================] - 1s 555us/step - loss: 0.2835 - sparse_categorical_accuracy: 0.9210\n",
      "Epoch 5/10\n",
      "1875/1875 [==============================] - 1s 597us/step - loss: 0.2792 - sparse_categorical_accuracy: 0.9221\n",
      "Epoch 6/10\n",
      "1875/1875 [==============================] - 1s 564us/step - loss: 0.2741 - sparse_categorical_accuracy: 0.9227\n",
      "Epoch 7/10\n",
      "1875/1875 [==============================] - 1s 566us/step - loss: 0.2703 - sparse_categorical_accuracy: 0.9246\n",
      "Epoch 8/10\n",
      "1875/1875 [==============================] - 1s 565us/step - loss: 0.2690 - sparse_categorical_accuracy: 0.9244\n",
      "Epoch 9/10\n",
      "1875/1875 [==============================] - 1s 567us/step - loss: 0.2677 - sparse_categorical_accuracy: 0.9254\n",
      "Epoch 10/10\n",
      "1875/1875 [==============================] - 1s 567us/step - loss: 0.2647 - sparse_categorical_accuracy: 0.9251\n",
      "79/79 [==============================] - 0s 493us/step - loss: 0.3012 - sparse_categorical_accuracy: 0.9207\n",
      "Epoch 1/10\n",
      "1875/1875 [==============================] - 1s 596us/step - loss: 0.3568 - sparse_categorical_accuracy: 0.8981\n",
      "Epoch 2/10\n",
      "1875/1875 [==============================] - 1s 609us/step - loss: 0.3007 - sparse_categorical_accuracy: 0.9160\n",
      "Epoch 3/10\n",
      "1875/1875 [==============================] - 1s 633us/step - loss: 0.2894 - sparse_categorical_accuracy: 0.9199\n",
      "Epoch 4/10\n",
      "1875/1875 [==============================] - 1s 662us/step - loss: 0.2815 - sparse_categorical_accuracy: 0.9218\n",
      "Epoch 5/10\n",
      "1875/1875 [==============================] - 1s 648us/step - loss: 0.2786 - sparse_categorical_accuracy: 0.9222\n",
      "Epoch 6/10\n",
      "1875/1875 [==============================] - 1s 616us/step - loss: 0.2740 - sparse_categorical_accuracy: 0.9241\n",
      "Epoch 7/10\n",
      "1875/1875 [==============================] - 1s 626us/step - loss: 0.2720 - sparse_categorical_accuracy: 0.9233\n",
      "Epoch 8/10\n",
      "1875/1875 [==============================] - 1s 598us/step - loss: 0.2689 - sparse_categorical_accuracy: 0.9248\n",
      "Epoch 9/10\n",
      "1875/1875 [==============================] - 1s 607us/step - loss: 0.2663 - sparse_categorical_accuracy: 0.9248\n",
      "Epoch 10/10\n",
      "1875/1875 [==============================] - 1s 633us/step - loss: 0.2659 - sparse_categorical_accuracy: 0.9261\n",
      "79/79 [==============================] - 0s 513us/step - loss: 0.2904 - sparse_categorical_accuracy: 0.9229\n",
      "Epoch 1/10\n",
      "1875/1875 [==============================] - 1s 601us/step - loss: 0.3569 - sparse_categorical_accuracy: 0.8979\n",
      "Epoch 2/10\n",
      "1875/1875 [==============================] - 1s 620us/step - loss: 0.3012 - sparse_categorical_accuracy: 0.9159\n",
      "Epoch 3/10\n",
      "1875/1875 [==============================] - 1s 611us/step - loss: 0.2901 - sparse_categorical_accuracy: 0.9190\n",
      "Epoch 4/10\n",
      "1875/1875 [==============================] - 1s 610us/step - loss: 0.2833 - sparse_categorical_accuracy: 0.9209\n",
      "Epoch 5/10\n",
      "1875/1875 [==============================] - 1s 612us/step - loss: 0.2786 - sparse_categorical_accuracy: 0.9209\n",
      "Epoch 6/10\n",
      "1875/1875 [==============================] - 1s 621us/step - loss: 0.2744 - sparse_categorical_accuracy: 0.9234\n",
      "Epoch 7/10\n",
      "1875/1875 [==============================] - 1s 616us/step - loss: 0.2720 - sparse_categorical_accuracy: 0.9234\n",
      "Epoch 8/10\n",
      "1875/1875 [==============================] - 1s 612us/step - loss: 0.2691 - sparse_categorical_accuracy: 0.9239\n",
      "Epoch 9/10\n",
      "1875/1875 [==============================] - 1s 627us/step - loss: 0.2681 - sparse_categorical_accuracy: 0.9254\n",
      "Epoch 10/10\n",
      "1875/1875 [==============================] - 1s 648us/step - loss: 0.2650 - sparse_categorical_accuracy: 0.9260\n",
      "79/79 [==============================] - 0s 547us/step - loss: 0.2854 - sparse_categorical_accuracy: 0.9224\n",
      "Epoch 1/10\n",
      "1875/1875 [==============================] - 1s 623us/step - loss: 0.3590 - sparse_categorical_accuracy: 0.8978\n",
      "Epoch 2/10\n",
      "1875/1875 [==============================] - 1s 674us/step - loss: 0.3034 - sparse_categorical_accuracy: 0.9155\n",
      "Epoch 3/10\n",
      "1875/1875 [==============================] - 1s 658us/step - loss: 0.2898 - sparse_categorical_accuracy: 0.9195\n",
      "Epoch 4/10\n"
     ]
    },
    {
     "name": "stdout",
     "output_type": "stream",
     "text": [
      "1875/1875 [==============================] - 2s 974us/step - loss: 0.2846 - sparse_categorical_accuracy: 0.9203\n",
      "Epoch 5/10\n",
      "1875/1875 [==============================] - 2s 984us/step - loss: 0.2795 - sparse_categorical_accuracy: 0.9227\n",
      "Epoch 6/10\n",
      "1875/1875 [==============================] - 1s 722us/step - loss: 0.2758 - sparse_categorical_accuracy: 0.9223\n",
      "Epoch 7/10\n",
      "1875/1875 [==============================] - 1s 682us/step - loss: 0.2740 - sparse_categorical_accuracy: 0.9240\n",
      "Epoch 8/10\n",
      "1875/1875 [==============================] - 1s 596us/step - loss: 0.2697 - sparse_categorical_accuracy: 0.9245\n",
      "Epoch 9/10\n",
      "1875/1875 [==============================] - 1s 676us/step - loss: 0.2673 - sparse_categorical_accuracy: 0.9254\n",
      "Epoch 10/10\n",
      "1875/1875 [==============================] - 2s 894us/step - loss: 0.2664 - sparse_categorical_accuracy: 0.9251\n",
      "79/79 [==============================] - 0s 497us/step - loss: 0.2904 - sparse_categorical_accuracy: 0.9223\n",
      "Epoch 1/10\n",
      "1875/1875 [==============================] - 2s 1ms/step - loss: 0.3585 - sparse_categorical_accuracy: 0.8971\n",
      "Epoch 2/10\n",
      "1875/1875 [==============================] - 1s 584us/step - loss: 0.3016 - sparse_categorical_accuracy: 0.9163\n",
      "Epoch 3/10\n",
      "1875/1875 [==============================] - 1s 740us/step - loss: 0.2924 - sparse_categorical_accuracy: 0.9187\n",
      "Epoch 4/10\n",
      "1875/1875 [==============================] - 2s 812us/step - loss: 0.2863 - sparse_categorical_accuracy: 0.9200\n",
      "Epoch 5/10\n",
      "1875/1875 [==============================] - 2s 1ms/step - loss: 0.2808 - sparse_categorical_accuracy: 0.9216\n",
      "Epoch 6/10\n",
      "1875/1875 [==============================] - 2s 1ms/step - loss: 0.2759 - sparse_categorical_accuracy: 0.9227\n",
      "Epoch 7/10\n",
      "1875/1875 [==============================] - 2s 888us/step - loss: 0.2729 - sparse_categorical_accuracy: 0.9237\n",
      "Epoch 8/10\n",
      "1875/1875 [==============================] - 1s 688us/step - loss: 0.2707 - sparse_categorical_accuracy: 0.9250\n",
      "Epoch 9/10\n",
      "1875/1875 [==============================] - 1s 639us/step - loss: 0.2696 - sparse_categorical_accuracy: 0.9240\n",
      "Epoch 10/10\n",
      "1875/1875 [==============================] - 2s 864us/step - loss: 0.2649 - sparse_categorical_accuracy: 0.9268\n",
      "79/79 [==============================] - 0s 566us/step - loss: 0.2929 - sparse_categorical_accuracy: 0.9167\n",
      "Epoch 1/10\n",
      "1875/1875 [==============================] - 1s 719us/step - loss: 0.3599 - sparse_categorical_accuracy: 0.8978\n",
      "Epoch 2/10\n",
      "1875/1875 [==============================] - 1s 789us/step - loss: 0.3015 - sparse_categorical_accuracy: 0.9160\n",
      "Epoch 3/10\n",
      "1875/1875 [==============================] - 2s 1ms/step - loss: 0.2918 - sparse_categorical_accuracy: 0.9190\n",
      "Epoch 4/10\n",
      "1875/1875 [==============================] - 2s 1ms/step - loss: 0.2853 - sparse_categorical_accuracy: 0.9214\n",
      "Epoch 5/10\n",
      "1875/1875 [==============================] - 1s 703us/step - loss: 0.2800 - sparse_categorical_accuracy: 0.9216\n",
      "Epoch 6/10\n",
      "1875/1875 [==============================] - 2s 991us/step - loss: 0.2753 - sparse_categorical_accuracy: 0.9231\n",
      "Epoch 7/10\n",
      "1875/1875 [==============================] - 1s 609us/step - loss: 0.2731 - sparse_categorical_accuracy: 0.9233\n",
      "Epoch 8/10\n",
      "1875/1875 [==============================] - 1s 652us/step - loss: 0.2712 - sparse_categorical_accuracy: 0.9237\n",
      "Epoch 9/10\n",
      "1875/1875 [==============================] - 1s 605us/step - loss: 0.2689 - sparse_categorical_accuracy: 0.9243\n",
      "Epoch 10/10\n",
      "1875/1875 [==============================] - 1s 613us/step - loss: 0.2663 - sparse_categorical_accuracy: 0.9251\n",
      "79/79 [==============================] - 0s 591us/step - loss: 0.2874 - sparse_categorical_accuracy: 0.9221\n",
      "Epoch 1/10\n",
      "1875/1875 [==============================] - 1s 613us/step - loss: 0.3606 - sparse_categorical_accuracy: 0.8972\n",
      "Epoch 2/10\n",
      "1875/1875 [==============================] - 1s 632us/step - loss: 0.3031 - sparse_categorical_accuracy: 0.9144\n",
      "Epoch 3/10\n",
      "1875/1875 [==============================] - 1s 700us/step - loss: 0.2919 - sparse_categorical_accuracy: 0.9179\n",
      "Epoch 4/10\n",
      "1875/1875 [==============================] - 1s 637us/step - loss: 0.2860 - sparse_categorical_accuracy: 0.9198\n",
      "Epoch 5/10\n",
      "1875/1875 [==============================] - 1s 672us/step - loss: 0.2818 - sparse_categorical_accuracy: 0.9214\n",
      "Epoch 6/10\n",
      "1875/1875 [==============================] - 1s 658us/step - loss: 0.2765 - sparse_categorical_accuracy: 0.9222\n",
      "Epoch 7/10\n",
      "1875/1875 [==============================] - 1s 708us/step - loss: 0.2733 - sparse_categorical_accuracy: 0.9227\n",
      "Epoch 8/10\n",
      "1875/1875 [==============================] - 1s 625us/step - loss: 0.2716 - sparse_categorical_accuracy: 0.9238\n",
      "Epoch 9/10\n",
      "1875/1875 [==============================] - 1s 684us/step - loss: 0.2685 - sparse_categorical_accuracy: 0.9242\n",
      "Epoch 10/10\n",
      "1875/1875 [==============================] - 1s 664us/step - loss: 0.2657 - sparse_categorical_accuracy: 0.9259\n",
      "79/79 [==============================] - 0s 519us/step - loss: 0.2884 - sparse_categorical_accuracy: 0.9213\n",
      "Epoch 1/10\n",
      "1875/1875 [==============================] - 1s 783us/step - loss: 0.3588 - sparse_categorical_accuracy: 0.8968\n",
      "Epoch 2/10\n",
      "1875/1875 [==============================] - 1s 673us/step - loss: 0.3041 - sparse_categorical_accuracy: 0.9154\n",
      "Epoch 3/10\n",
      "1875/1875 [==============================] - 2s 984us/step - loss: 0.2943 - sparse_categorical_accuracy: 0.9172\n",
      "Epoch 4/10\n",
      "1875/1875 [==============================] - 1s 667us/step - loss: 0.2847 - sparse_categorical_accuracy: 0.9195\n",
      "Epoch 5/10\n",
      "1875/1875 [==============================] - 2s 1ms/step - loss: 0.2820 - sparse_categorical_accuracy: 0.9207\n",
      "Epoch 6/10\n",
      "1875/1875 [==============================] - 1s 770us/step - loss: 0.2787 - sparse_categorical_accuracy: 0.9226\n",
      "Epoch 7/10\n",
      "1875/1875 [==============================] - 2s 1ms/step - loss: 0.2748 - sparse_categorical_accuracy: 0.9226\n",
      "Epoch 8/10\n",
      "1875/1875 [==============================] - 1s 736us/step - loss: 0.2718 - sparse_categorical_accuracy: 0.9242\n",
      "Epoch 9/10\n",
      "1875/1875 [==============================] - 1s 628us/step - loss: 0.2694 - sparse_categorical_accuracy: 0.9238\n",
      "Epoch 10/10\n",
      "1875/1875 [==============================] - 1s 692us/step - loss: 0.2669 - sparse_categorical_accuracy: 0.9257\n",
      "79/79 [==============================] - 0s 511us/step - loss: 0.2853 - sparse_categorical_accuracy: 0.9227\n",
      "Epoch 1/10\n",
      "1875/1875 [==============================] - 1s 649us/step - loss: 0.3601 - sparse_categorical_accuracy: 0.8972\n",
      "Epoch 2/10\n",
      "1875/1875 [==============================] - 1s 715us/step - loss: 0.3030 - sparse_categorical_accuracy: 0.9156\n",
      "Epoch 3/10\n",
      "1875/1875 [==============================] - 1s 682us/step - loss: 0.2929 - sparse_categorical_accuracy: 0.9179\n",
      "Epoch 4/10\n",
      "1875/1875 [==============================] - 1s 698us/step - loss: 0.2862 - sparse_categorical_accuracy: 0.9204\n",
      "Epoch 5/10\n",
      "1875/1875 [==============================] - 1s 693us/step - loss: 0.2796 - sparse_categorical_accuracy: 0.9210\n",
      "Epoch 6/10\n",
      "1875/1875 [==============================] - 2s 1ms/step - loss: 0.2775 - sparse_categorical_accuracy: 0.9219\n",
      "Epoch 7/10\n",
      "1875/1875 [==============================] - 2s 935us/step - loss: 0.2735 - sparse_categorical_accuracy: 0.9232\n",
      "Epoch 8/10\n",
      "1875/1875 [==============================] - 2s 1ms/step - loss: 0.2707 - sparse_categorical_accuracy: 0.9241\n",
      "Epoch 9/10\n",
      "1875/1875 [==============================] - 2s 1ms/step - loss: 0.2676 - sparse_categorical_accuracy: 0.9254\n",
      "Epoch 10/10\n",
      "1875/1875 [==============================] - 1s 682us/step - loss: 0.2658 - sparse_categorical_accuracy: 0.9252\n",
      "79/79 [==============================] - 0s 527us/step - loss: 0.2814 - sparse_categorical_accuracy: 0.9217\n",
      "Epoch 1/10\n",
      "1875/1875 [==============================] - 1s 695us/step - loss: 0.3587 - sparse_categorical_accuracy: 0.8968\n",
      "Epoch 2/10\n",
      "1875/1875 [==============================] - 2s 1ms/step - loss: 0.3047 - sparse_categorical_accuracy: 0.9151\n",
      "Epoch 3/10\n",
      "1875/1875 [==============================] - 1s 664us/step - loss: 0.2940 - sparse_categorical_accuracy: 0.9176\n",
      "Epoch 4/10\n",
      "1875/1875 [==============================] - 2s 1ms/step - loss: 0.2863 - sparse_categorical_accuracy: 0.9198\n",
      "Epoch 5/10\n"
     ]
    },
    {
     "name": "stdout",
     "output_type": "stream",
     "text": [
      "1875/1875 [==============================] - 2s 883us/step - loss: 0.2815 - sparse_categorical_accuracy: 0.9205\n",
      "Epoch 6/10\n",
      "1875/1875 [==============================] - 3s 1ms/step - loss: 0.2786 - sparse_categorical_accuracy: 0.9209\n",
      "Epoch 7/10\n",
      "1875/1875 [==============================] - 2s 1ms/step - loss: 0.2749 - sparse_categorical_accuracy: 0.9237\n",
      "Epoch 8/10\n",
      "1875/1875 [==============================] - 1s 764us/step - loss: 0.2732 - sparse_categorical_accuracy: 0.9230\n",
      "Epoch 9/10\n",
      "1875/1875 [==============================] - 2s 1ms/step - loss: 0.2702 - sparse_categorical_accuracy: 0.9243\n",
      "Epoch 10/10\n",
      "1875/1875 [==============================] - 1s 669us/step - loss: 0.2685 - sparse_categorical_accuracy: 0.9238\n",
      "79/79 [==============================] - 0s 564us/step - loss: 0.2940 - sparse_categorical_accuracy: 0.9193\n"
     ]
    }
   ],
   "source": [
    "params = [x*8 for x in range(3,28)]\n",
    "results = []\n",
    "\n",
    "for n in params:\n",
    "    model = build_model(n)\n",
    "    model.fit(X_train, Y_train, batch_size=32, epochs=10)\n",
    "    result = model.evaluate(X_test, Y_test, batch_size=128)\n",
    "    results.append(result)"
   ]
  },
  {
   "cell_type": "code",
   "execution_count": 93,
   "metadata": {},
   "outputs": [],
   "source": [
    "losses = []\n",
    "accuracies = []\n",
    "\n",
    "for r in results:\n",
    "    losses.append(r[0])\n",
    "    accuracies.append(r[1])\n",
    "    "
   ]
  },
  {
   "cell_type": "code",
   "execution_count": 94,
   "metadata": {},
   "outputs": [
    {
     "name": "stdout",
     "output_type": "stream",
     "text": [
      "[[0.2853652536869049, 0.9236999750137329], [0.2706524133682251, 0.9240999817848206], [0.2794591188430786, 0.9251000285148621], [0.2831665873527527, 0.9203000068664551], [0.2719002068042755, 0.9246000051498413], [0.2838566303253174, 0.9222000241279602], [0.2807924151420593, 0.9247999787330627], [0.28871768712997437, 0.9190000295639038], [0.28834468126296997, 0.9217000007629395], [0.2859114706516266, 0.9253000020980835], [0.28850239515304565, 0.920799970626831], [0.29650789499282837, 0.9164000153541565], [0.2828270196914673, 0.9243000149726868], [0.28131571412086487, 0.9221000075340271], [0.2773425281047821, 0.925000011920929], [0.30121421813964844, 0.9207000136375427], [0.29038769006729126, 0.9229000210762024], [0.285357803106308, 0.9223999977111816], [0.2903877794742584, 0.9222999811172485], [0.29286134243011475, 0.916700005531311], [0.28737208247184753, 0.9221000075340271], [0.28844138979911804, 0.9212999939918518], [0.28532320261001587, 0.9226999878883362], [0.28137969970703125, 0.9217000007629395], [0.29395630955696106, 0.9193000197410583]]\n"
     ]
    }
   ],
   "source": [
    "print(results)"
   ]
  },
  {
   "cell_type": "code",
   "execution_count": 95,
   "metadata": {},
   "outputs": [
    {
     "data": {
      "text/plain": [
       "[<matplotlib.lines.Line2D at 0x7f4d881fafd0>]"
      ]
     },
     "execution_count": 95,
     "metadata": {},
     "output_type": "execute_result"
    },
    {
     "data": {
      "image/png": "[encoded data removed]",
      "text/plain": [
       "<Figure size 432x288 with 1 Axes>"
      ]
     },
     "metadata": {
      "needs_background": "light"
     },
     "output_type": "display_data"
    },
    {
     "data": {
      "image/png": "[encoded data removed]",
      "text/plain": [
       "<Figure size 432x288 with 1 Axes>"
      ]
     },
     "metadata": {
      "needs_background": "light"
     },
     "output_type": "display_data"
    }
   ],
   "source": [
    "plt.figure(1)\n",
    "plt.plot(params, losses)\n",
    "plt.figure(2)\n",
    "plt.plot(params, accuracies)"
   ]
  },
  {
   "cell_type": "code",
   "execution_count": 88,
   "metadata": {},
   "outputs": [
    {
     "name": "stdout",
     "output_type": "stream",
     "text": [
      "[48, 64, 80, 96, 112, 128, 144, 160, 176, 192]\n"
     ]
    }
   ],
   "source": [
    "L = [x*16 for x in range(3,13)]\n",
    "print(L)"
   ]
  },
  {
   "cell_type": "code",
   "execution_count": null,
   "metadata": {},
   "outputs": [],
   "source": []
  }
 ],
 "metadata": {
  "kernelspec": {
   "display_name": "Python 3",
   "language": "python",
   "name": "python3"
  },
  "language_info": {
   "codemirror_mode": {
    "name": "ipython",
    "version": 3
   },
   "file_extension": ".py",
   "mimetype": "text/x-python",
   "name": "python",
   "nbconvert_exporter": "python",
   "pygments_lexer": "ipython3",
   "version": "3.7.6"
  }
 },
 "nbformat": 4,
 "nbformat_minor": 5
}

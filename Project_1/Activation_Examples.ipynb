{
 "cells": [
  {
   "cell_type": "code",
   "execution_count": 46,
   "id": "03ffa83b",
   "metadata": {},
   "outputs": [],
   "source": [
    "import matplotlib.pyplot as plt\n",
    "import numpy as np\n",
    "from scipy.special import erfc\n",
    "\n",
    "def get_x_range():\n",
    "    return \n",
    "\n",
    "def sigmoid_activation():\n",
    "    x = np.arange(-5, 5, 0.01)\n",
    "    y = 1 / (1 + np.exp(-x))\n",
    "    plt.figure(figsize=(7,5))\n",
    "    plt.plot(x, y, color='tab:red', label='Sigmoid')\n",
    "    plt.legend(loc='best')\n",
    "    plt.grid(alpha=0.5)\n",
    "    plt.xlabel(\"x\", weight='bold')\n",
    "    plt.ylabel(\"y\", weight='bold')\n",
    "    plt.title('Sigmoid', weight=\"bold\")\n",
    "    plt.show()\n",
    "\n",
    "def tanh_activation():\n",
    "    x = np.arange(-5, 5, 0.01)\n",
    "    y = np.tanh(x)\n",
    "    plt.figure(figsize=(7,5))\n",
    "    plt.plot(x, y, color='tab:blue', label='Tanh')\n",
    "    plt.legend(loc='best')\n",
    "    plt.grid(alpha=0.5)\n",
    "    plt.xlabel(\"x\", weight='bold')\n",
    "    plt.ylabel(\"y\", weight='bold')\n",
    "    plt.title('Tanh', weight=\"bold\")\n",
    "    plt.show()\n",
    "\n",
    "def relu_activation():\n",
    "    x = np.arange(-5, 5, 0.01)\n",
    "    y = np.maximum(0, x)\n",
    "    plt.figure(figsize=(7,5))\n",
    "    plt.plot(x, y, color='tab:green', label='ReLU')\n",
    "    plt.legend(loc='best')\n",
    "    plt.xlim(-4, 4)\n",
    "    plt.ylim(-2, 4.0)\n",
    "    plt.grid(alpha=0.5)\n",
    "    plt.xlabel(\"x\", weight='bold')\n",
    "    plt.ylabel(\"y\", weight='bold')\n",
    "    plt.title('ReLU', weight=\"bold\")\n",
    "    plt.show()\n"
   ]
  },
  {
   "cell_type": "code",
   "execution_count": null,
   "id": "3f6dd9a9",
   "metadata": {},
   "outputs": [],
   "source": []
  },
  {
   "cell_type": "code",
   "execution_count": null,
   "id": "e58d2767",
   "metadata": {},
   "outputs": [],
   "source": []
  },
  {
   "cell_type": "code",
   "execution_count": null,
   "id": "42bd4aec",
   "metadata": {},
   "outputs": [],
   "source": []
  },
  {
   "cell_type": "code",
   "execution_count": null,
   "id": "8d0da5fb",
   "metadata": {},
   "outputs": [],
   "source": []
  },
  {
   "cell_type": "code",
   "execution_count": null,
   "id": "41b3907d",
   "metadata": {},
   "outputs": [],
   "source": []
  }
 ],
 "metadata": {
  "kernelspec": {
   "display_name": "Python 3 (ipykernel)",
   "language": "python",
   "name": "python3"
  },
  "language_info": {
   "codemirror_mode": {
    "name": "ipython",
    "version": 3
   },
   "file_extension": ".py",
   "mimetype": "text/x-python",
   "name": "python",
   "nbconvert_exporter": "python",
   "pygments_lexer": "ipython3",
   "version": "3.8.8"
  }
 },
 "nbformat": 4,
 "nbformat_minor": 5
}

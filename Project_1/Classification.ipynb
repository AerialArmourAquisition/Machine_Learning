{
 "cells": [
  {
   "cell_type": "markdown",
   "id": "0704e311",
   "metadata": {},
   "source": [
    "# Digit Classification\n",
    "\n",
    "This notebook is a very simple exercise of training an ML model from start to finish to classify handwritten digits. It will explore the basics of installing and importing all of the required dependencies and downloading a dataset.\n",
    "\n",
    "Some basic tools will be provided for you to visualise the data, then it is up to you to research, build, and train a model in whatever architecture you'd like with whatever framework you choose. "
   ]
  },
  {
   "cell_type": "markdown",
   "id": "0fcdebab",
   "metadata": {},
   "source": [
    "### Install Dependencies"
   ]
  },
  {
   "cell_type": "code",
   "execution_count": 24,
   "id": "30cbbbd8",
   "metadata": {},
   "outputs": [
    {
     "ename": "SyntaxError",
     "evalue": "invalid syntax (<ipython-input-24-d1af7a6086f6>, line 3)",
     "output_type": "error",
     "traceback": [
      "\u001b[0;36m  File \u001b[0;32m\"<ipython-input-24-d1af7a6086f6>\"\u001b[0;36m, line \u001b[0;32m3\u001b[0m\n\u001b[0;31m    pip install tensorflow\u001b[0m\n\u001b[0m        ^\u001b[0m\n\u001b[0;31mSyntaxError\u001b[0m\u001b[0;31m:\u001b[0m invalid syntax\n"
     ]
    }
   ],
   "source": [
    "# make sure you have python3 and pip3 installed first on your machine\n",
    "\n",
    "pip install tensorflow"
   ]
  },
  {
   "cell_type": "code",
   "execution_count": 25,
   "id": "ae3fbcbe",
   "metadata": {},
   "outputs": [],
   "source": [
    "import tensorflow as tf                      #1\n",
    "import numpy as np                           #2 \n",
    "import matplotlib.pyplot as plt              #3\n",
    "from random import *                         #4"
   ]
  },
  {
   "cell_type": "markdown",
   "id": "9899f8b6",
   "metadata": {},
   "source": [
    "We are going to use the MNIST dataset of handwritten digits {0-9} in black and white.  This is available on Kaggle (here: https://www.kaggle.com/c/digit-recognizer/code).\n",
    "\n",
    "But helpfully Tensorflow (import 1) hosts an easy way to import the dataset with very little fuss (Info here: https://www.tensorflow.org/datasets/catalog/mnist). This lets us explore a very simple example of how to set up our data into a set of inputs (X) and outputs (Y) that we can form a model out of:"
   ]
  },
  {
   "cell_type": "markdown",
   "id": "4ad80a16",
   "metadata": {},
   "source": [
    "### Download Data"
   ]
  },
  {
   "cell_type": "code",
   "execution_count": 26,
   "id": "0c70eaf3",
   "metadata": {},
   "outputs": [],
   "source": [
    "mnist = tf.keras.datasets.mnist\n",
    "(train_images, train_labels),(test_images, test_labels) = mnist.load_data()"
   ]
  },
  {
   "cell_type": "markdown",
   "id": "94d54c93",
   "metadata": {},
   "source": [
    "Now we have downloaded a training and test set made up of images (X) and labels (Y).\n",
    "The shapes of our input and output can be checked by printing out just the first image/label sizes using the numpy (np, see import 2) library."
   ]
  },
  {
   "cell_type": "markdown",
   "id": "f092142c",
   "metadata": {},
   "source": [
    "### Visualise Data"
   ]
  },
  {
   "cell_type": "code",
   "execution_count": 27,
   "id": "5cb30eea",
   "metadata": {},
   "outputs": [
    {
     "name": "stdout",
     "output_type": "stream",
     "text": [
      "Our first image is: (28, 28)\n",
      "Our first label is: 5\n"
     ]
    }
   ],
   "source": [
    "print('Our first image is: ' + str(np.shape(train_images[0])))\n",
    "print('Our first label is: ' + str(train_labels[0]))"
   ]
  },
  {
   "cell_type": "markdown",
   "id": "ecda995d",
   "metadata": {},
   "source": [
    "Our image, as expected is a set of 28x28 pixels with a range of 0 - 255 and our label is the digit that the picture shows.  To make this easy to confirm as correctly labled, let's also show the image."
   ]
  },
  {
   "cell_type": "code",
   "execution_count": 28,
   "id": "d03d966c",
   "metadata": {},
   "outputs": [
    {
     "data": {
      "text/plain": [
       "<matplotlib.image.AxesImage at 0x7f9432974dc0>"
      ]
     },
     "execution_count": 28,
     "metadata": {},
     "output_type": "execute_result"
    },
    {
     "data": {
      "image/png": "[encoded data removed]",
      "text/plain": [
       "<Figure size 432x288 with 1 Axes>"
      ]
     },
     "metadata": {
      "needs_background": "light"
     },
     "output_type": "display_data"
    }
   ],
   "source": [
    "plt.imshow(train_images[0])"
   ]
  },
  {
   "cell_type": "markdown",
   "id": "e50ae63b",
   "metadata": {},
   "source": [
    "We can use a random number generator to sample the training dataset"
   ]
  },
  {
   "cell_type": "code",
   "execution_count": 68,
   "id": "08218ad7",
   "metadata": {},
   "outputs": [
    {
     "name": "stdout",
     "output_type": "stream",
     "text": [
      "Image 9528 is labled as: 8\n"
     ]
    },
    {
     "data": {
      "image/png": "[encoded data removed]",
      "text/plain": [
       "<Figure size 432x288 with 1 Axes>"
      ]
     },
     "metadata": {
      "needs_background": "light"
     },
     "output_type": "display_data"
    }
   ],
   "source": [
    "selected = randint(0, len(train_images)-1)\n",
    "plt.imshow(train_images[selected])\n",
    "print('Image ' + str(selected) + ' is labled as: ' + str(train_labels[selected]))"
   ]
  },
  {
   "cell_type": "markdown",
   "id": "f8b67643",
   "metadata": {},
   "source": [
    "### Normalise the data\n",
    "We are currently using a range of 0 - 255, this causes issues when working with neural networks as deep networks can cause values to explode exponentially.  So we will normalise all of our values to be between 0 to 1.  This is not the only range possible, but is frequently used. We could write a function that does this for all values, making sure to take the highest value equal to 1 and lowest to 0.  \n",
    "\n",
    "However numpy has again got a very useful interpolation function that can provide us with the answer in one line."
   ]
  },
  {
   "cell_type": "code",
   "execution_count": 62,
   "id": "12a7e87e",
   "metadata": {},
   "outputs": [
    {
     "name": "stdout",
     "output_type": "stream",
     "text": [
      "Image 24185 max: 1.0 min: 0.0\n",
      "Image 3242 max: 1.0 min: 0.0\n",
      "Image 20267 max: 1.0 min: 0.0\n",
      "Image 57635 max: 1.0 min: 0.0\n",
      "Image 2387 max: 1.0 min: 0.0\n",
      "Image 5332 max: 0.996078431372549 min: 0.0\n",
      "Image 9246 max: 1.0 min: 0.0\n",
      "Image 36272 max: 1.0 min: 0.0\n",
      "Image 38896 max: 1.0 min: 0.0\n",
      "Image 31475 max: 1.0 min: 0.0\n"
     ]
    }
   ],
   "source": [
    "train_images = np.interp(train_images, (train_images.min(), train_images.max()), (0, 1))\n",
    "test_images = np.interp(test_images, (test_images.min(), test_images.max()), (0, 1))\n",
    "\n",
    "# Taking a random sample to see if it has worked\n",
    "for i in range(0,10):\n",
    "    random_sample = randint(0, len(train_images)-1)\n",
    "    max_value = np.max(train_images[random_sample])\n",
    "    min_value = np.min(train_images[random_sample])\n",
    "    print('Image ' + str(random_sample) + ' max: ' + str(max_value) + ' min: ' + str(min_value))"
   ]
  },
  {
   "cell_type": "markdown",
   "id": "efe3e090",
   "metadata": {},
   "source": [
    "We can also check that the data hasn't changed the image by re-running our visualisation code again"
   ]
  },
  {
   "cell_type": "code",
   "execution_count": 64,
   "id": "ee58c6cc",
   "metadata": {},
   "outputs": [
    {
     "name": "stdout",
     "output_type": "stream",
     "text": [
      "Image 11846 is labled as: 0\n"
     ]
    },
    {
     "data": {
      "image/png": "[encoded data removed]",
      "text/plain": [
       "<Figure size 432x288 with 1 Axes>"
      ]
     },
     "metadata": {
      "needs_background": "light"
     },
     "output_type": "display_data"
    }
   ],
   "source": [
    "selected = randint(0, len(train_images)-1)\n",
    "plt.imshow(train_images[selected])\n",
    "print('Image ' + str(selected) + ' is labled as: ' + str(train_labels[selected]))"
   ]
  },
  {
   "cell_type": "markdown",
   "id": "5bb2f813",
   "metadata": {},
   "source": [
    "### Reshape Data\n",
    "This is a good start, but currently our data is in a 3 dimentional array of images with each one looking like this:"
   ]
  },
  {
   "cell_type": "markdown",
   "id": "74170733",
   "metadata": {},
   "source": [
    "$$\n",
    "\\begin{bmatrix}\n",
    "0 & 1 & ... & n-1 & n \\\\\n",
    "1 & px & px & px & px \\\\\n",
    "\\vdots & px & px & px & px \\\\\n",
    "n-1 & px & px & px & px \\\\\n",
    "n & px & px & px & px\n",
    "\\end{bmatrix}\n",
    "\\cdot m\n",
    "$$"
   ]
  },
  {
   "cell_type": "markdown",
   "id": "117ac3df",
   "metadata": {},
   "source": [
    "Where our image is $n\\times n$ in size and there are $m$ images in the data set.  This needs to be converted to something that we can input into the first layer of our neural network, and we can to this by adding all of our columns of pixels end to end to form a single vector:"
   ]
  },
  {
   "cell_type": "markdown",
   "id": "5b6985c2",
   "metadata": {},
   "source": [
    "$$\n",
    "\\begin{bmatrix}\n",
    "0 \\\\\n",
    "1 \\\\\n",
    "\\vdots \\\\\n",
    "n^{2}-1 \\\\\n",
    "n^{2}\n",
    "\\end{bmatrix}\n",
    "\\cdot m\n",
    "$$"
   ]
  },
  {
   "cell_type": "markdown",
   "id": "e780e9c4",
   "metadata": {},
   "source": [
    "We can then stack all of our $m$ images together to form a two dimensional $n\\times m$ matrix: "
   ]
  },
  {
   "cell_type": "markdown",
   "id": "3738fba9",
   "metadata": {},
   "source": [
    "$$\n",
    "\\begin{bmatrix}\n",
    "0 & 1 & \\cdots & m-1 & m \\\\\n",
    "1 & \\ddots &  &  &  \\\\\n",
    "\\vdots & & \\ddots &  & \\vdots \\\\\n",
    "n-1 &  &  & \\ddots &  \\\\\n",
    "n &  & \\cdots &  & n \\times m\n",
    "\\end{bmatrix}\n",
    "$$"
   ]
  },
  {
   "cell_type": "code",
   "execution_count": 65,
   "id": "b7b4b840",
   "metadata": {},
   "outputs": [
    {
     "name": "stdout",
     "output_type": "stream",
     "text": [
      "Train data is: (60000, 28, 28)\n",
      "Test data is: (10000, 28, 28)\n",
      "Reshaped train data is: (60000, 784)\n",
      "Reshaped test data is: (10000, 784)\n"
     ]
    }
   ],
   "source": [
    "# First print out the original shapes\n",
    "print('Train data is: ' + str(np.shape(train_images)))\n",
    "print('Test data is: ' + str(np.shape(test_images)))\n",
    "\n",
    "# Using numpy, reshape the array into the desired shape\n",
    "X_train = train_images.reshape(len(train_images), 28*28)\n",
    "X_test = test_images.reshape(len(test_images), 28*28)\n",
    "\n",
    "# Print out the final shape\n",
    "print('Reshaped train data is: ' + str(np.shape(X_train)))\n",
    "print('Reshaped test data is: ' + str(np.shape(X_test)))"
   ]
  },
  {
   "cell_type": "markdown",
   "id": "4b0fa05b",
   "metadata": {},
   "source": [
    "Now for our labels, we already have an  $m \\times 1$  vector so we can simply rename them to `Y_test` and `Y_train` and  confirm that they are the right shapes of (m,) where the lack of a second number means that it is a one dimensional array (or vector). "
   ]
  },
  {
   "cell_type": "code",
   "execution_count": 70,
   "id": "5626d054",
   "metadata": {},
   "outputs": [
    {
     "name": "stdout",
     "output_type": "stream",
     "text": [
      "Train Y is: (60000,)\n",
      "Test Y is: (10000,)\n"
     ]
    }
   ],
   "source": [
    "# Rename our data\n",
    "Y_train = train_labels;\n",
    "Y_test = test_labels;\n",
    "\n",
    "# Print to confirm\n",
    "print('Train Y is: ' + str(np.shape(Y_train)))\n",
    "print('Test Y is: ' + str(np.shape(Y_test)))"
   ]
  },
  {
   "cell_type": "markdown",
   "id": "8f2f6a57",
   "metadata": {},
   "source": [
    "#### Now you are ready to build your model!"
   ]
  },
  {
   "cell_type": "code",
   "execution_count": null,
   "id": "04e56a8f",
   "metadata": {},
   "outputs": [],
   "source": []
  }
 ],
 "metadata": {
  "kernelspec": {
   "display_name": "Python 3 (ipykernel)",
   "language": "python",
   "name": "python3"
  },
  "language_info": {
   "codemirror_mode": {
    "name": "ipython",
    "version": 3
   },
   "file_extension": ".py",
   "mimetype": "text/x-python",
   "name": "python",
   "nbconvert_exporter": "python",
   "pygments_lexer": "ipython3",
   "version": "3.8.8"
  }
 },
 "nbformat": 4,
 "nbformat_minor": 5
}

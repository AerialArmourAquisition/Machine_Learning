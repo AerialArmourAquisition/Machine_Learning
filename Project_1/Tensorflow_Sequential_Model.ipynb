{
 "cells": [
  {
   "cell_type": "markdown",
   "id": "46cf4f34",
   "metadata": {},
   "source": [
    "# Tensorflow Sequential Model\n",
    "\n",
    "This notebook is a companion to the Digit Classification project to help with the initial navigation through Tensorflow documentation and the building of a sequential model.  The sequential model is the simplest type of model that can be built using the TF framework, rather than having to specify exactly which layer connects to which, each layer can simply be added in order with the framework taking care of linking the layers together.\n",
    "\n",
    "Initially we will take a look at several types of layer available, with links to the documentation, before we look at how to compose them into a neural network (NN).\n",
    "\n",
    "## Import Dependencies"
   ]
  },
  {
   "cell_type": "code",
   "execution_count": 2,
   "id": "5d10ba42",
   "metadata": {},
   "outputs": [],
   "source": [
    "# Ensure you have Python3 and Tensorflow installed locally\n",
    "import tensorflow as tf\n",
    "from tensorflow import keras\n",
    "from tensorflow.keras import layers"
   ]
  },
  {
   "cell_type": "markdown",
   "id": "b414468e",
   "metadata": {},
   "source": [
    "## Types of Layer\n",
    "\n",
    "#### Input - https://www.tensorflow.org/api_docs/python/tf/keras/layers/InputLayer\n",
    "The first layer of our network must be an Input Layer, with this layer we outline the shape of the input tensor that the network should expect to recieve.  In this case we have a vector in $\\mathbb{R}^{10}$ as our input (that is, a vector with ten values). "
   ]
  },
  {
   "cell_type": "code",
   "execution_count": 3,
   "id": "ac898653",
   "metadata": {},
   "outputs": [],
   "source": [
    "input_layer = layers.InputLayer(input_shape=(10,))"
   ]
  },
  {
   "cell_type": "markdown",
   "id": "1cd743fb",
   "metadata": {},
   "source": [
    "#### Dense - https://www.tensorflow.org/api_docs/python/tf/keras/layers/Dense\n",
    "A densely-connected NN layer is the most simple type of layer, it takes every input, multiplies it by a weight, adds a bias and finally passes it through an activation function that ensures that the output stays within the boundaries of $0.0 < Output < 1.0$. Within TF there are many different parameters that can be added to the layer, some key ones are as follows:\n",
    "\n",
    "- **Units**.  The number of units within a densely connected layer are the number of outputs that are expected to be produced.  A dense layer with `units=1` will produce a single output value between 0 and 1.  This can be utilised as the final output of a classification NN.  Intermediate layers can reduce, maintain or increase the size of the output through changing the input parameter\n",
    "\n",
    "- **Activation**.  Several types of activation function can be selected, with each providing a different way of mapping the various inputs to a normalised version that sits either between $[0,1]$ or $[-1,1]$.  A deep discussion of the use of different functions is outside the scope of this notebook, however the use of a Regularized Linear activation (ReLU) is recommended although it is worth looking at the effects achieved with a Sigmoid or Tanh activation. \n",
    "\n",
    "The creation of a few different dense layers can be done as follows (this is not a recommended architecture, just a display):"
   ]
  },
  {
   "cell_type": "code",
   "execution_count": 4,
   "id": "0dffc0ef",
   "metadata": {},
   "outputs": [],
   "source": [
    "dense_layer_1 = layers.Dense(units=10, activation='relu')     # Keeping shape: input 10 -> output 10\n",
    "dense_layer_2 = layers.Dense(units=20, activation='sigmoid')  # Increasing shape: input 10 -> output 20\n",
    "dense_layer_3 = layers.Dense(units=5, activation='tanh')      # Decreasing shape: input 20 -> output 5"
   ]
  },
  {
   "cell_type": "code",
   "execution_count": null,
   "id": "5b8f461c",
   "metadata": {},
   "outputs": [],
   "source": []
  }
 ],
 "metadata": {
  "kernelspec": {
   "display_name": "Python 3 (ipykernel)",
   "language": "python",
   "name": "python3"
  },
  "language_info": {
   "codemirror_mode": {
    "name": "ipython",
    "version": 3
   },
   "file_extension": ".py",
   "mimetype": "text/x-python",
   "name": "python",
   "nbconvert_exporter": "python",
   "pygments_lexer": "ipython3",
   "version": "3.8.8"
  }
 },
 "nbformat": 4,
 "nbformat_minor": 5
}
